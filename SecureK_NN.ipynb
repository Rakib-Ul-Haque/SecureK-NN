{
  "nbformat": 4,
  "nbformat_minor": 0,
  "metadata": {
    "colab": {
      "name": "SecureK-NN.ipynb",
      "provenance": [],
      "authorship_tag": "ABX9TyPD6H6W51kNq4N/b4w+dZPs",
      "include_colab_link": true
    },
    "kernelspec": {
      "name": "python3",
      "display_name": "Python 3"
    }
  },
  "cells": [
    {
      "cell_type": "markdown",
      "metadata": {
        "id": "view-in-github",
        "colab_type": "text"
      },
      "source": [
        "<a href=\"https://colab.research.google.com/github/Rakib-Ul-Haque/SecureK-NN/blob/master/SecureK_NN.ipynb\" target=\"_parent\"><img src=\"https://colab.research.google.com/assets/colab-badge.svg\" alt=\"Open In Colab\"/></a>"
      ]
    },
    {
      "cell_type": "markdown",
      "metadata": {
        "id": "S5_hIg-N5wUp",
        "colab_type": "text"
      },
      "source": [
        "General K-NN with Eucladian Method"
      ]
    },
    {
      "cell_type": "code",
      "metadata": {
        "id": "S1qLc-JQKHPm",
        "colab_type": "code",
        "colab": {}
      },
      "source": [
        "# performing linear algebra \n",
        "import numpy as np    \n",
        "# data processing \n",
        "import pandas as pd \n",
        "  \n",
        "# visualisation \n",
        "import matplotlib.pyplot as plt "
      ],
      "execution_count": 203,
      "outputs": []
    },
    {
      "cell_type": "markdown",
      "metadata": {
        "id": "j0yH461m56Pp",
        "colab_type": "text"
      },
      "source": [
        "BCWD dataset"
      ]
    },
    {
      "cell_type": "code",
      "metadata": {
        "id": "dqIeUrw9YEH2",
        "colab_type": "code",
        "colab": {
          "base_uri": "https://localhost:8080/",
          "height": 255
        },
        "outputId": "82921b59-d941-421f-8834-80fb3e892064"
      },
      "source": [
        "df = pd.read_table('breast-cancer-wisconsin.data', sep=',', names=[\"Sample code number\", \"Clump Thickness\", \"Uniformity of Cell Size\", \"Uniformity of Cell Shape\", \"Marginal Adhesion\", \"Single Epithelial Cell Size\",\"Bare Nuclei\", \"Bland Chromatin\", \"Normal Nucleoli\",\"Mitoses\",\"Class\"]) \n",
        "print(df.head)"
      ],
      "execution_count": 204,
      "outputs": [
        {
          "output_type": "stream",
          "text": [
            "<bound method NDFrame.head of      Sample code number  Clump Thickness  ...  Mitoses  Class\n",
            "0               1000025                5  ...        1      2\n",
            "1               1002945                5  ...        1      2\n",
            "2               1015425                3  ...        1      2\n",
            "3               1016277                6  ...        1      2\n",
            "4               1017023                4  ...        1      2\n",
            "..                  ...              ...  ...      ...    ...\n",
            "694              776715                3  ...        1      2\n",
            "695              841769                2  ...        1      2\n",
            "696              888820                5  ...        2      4\n",
            "697              897471                4  ...        1      4\n",
            "698              897471                4  ...        1      4\n",
            "\n",
            "[699 rows x 11 columns]>\n"
          ],
          "name": "stdout"
        }
      ]
    },
    {
      "cell_type": "code",
      "metadata": {
        "id": "sJc218vL6EBz",
        "colab_type": "code",
        "colab": {
          "base_uri": "https://localhost:8080/",
          "height": 428
        },
        "outputId": "6666c5f9-9684-4de3-f3c2-275cabcc18ba"
      },
      "source": [
        "#df[\"Bare Nuclei\"] = df[\"Bare Nuclei\"][0:]\n",
        "# pd.to_numeric(df[\"Bare Nuclei\"])\n",
        "# df[\"Bare Nuclei\"].head(33)\n",
        "df[\"Bare Nuclei\"][df[\"Bare Nuclei\"]=='?']='0'\n",
        "df[\"Bare Nuclei\"][df[\"Bare Nuclei\"]=='0']\n",
        "df[\"Bare Nuclei\"] = df[\"Bare Nuclei\"].astype(str).astype(int)\n",
        "df.info()\n"
      ],
      "execution_count": 205,
      "outputs": [
        {
          "output_type": "stream",
          "text": [
            "<class 'pandas.core.frame.DataFrame'>\n",
            "RangeIndex: 699 entries, 0 to 698\n",
            "Data columns (total 11 columns):\n",
            " #   Column                       Non-Null Count  Dtype\n",
            "---  ------                       --------------  -----\n",
            " 0   Sample code number           699 non-null    int64\n",
            " 1   Clump Thickness              699 non-null    int64\n",
            " 2   Uniformity of Cell Size      699 non-null    int64\n",
            " 3   Uniformity of Cell Shape     699 non-null    int64\n",
            " 4   Marginal Adhesion            699 non-null    int64\n",
            " 5   Single Epithelial Cell Size  699 non-null    int64\n",
            " 6   Bare Nuclei                  699 non-null    int64\n",
            " 7   Bland Chromatin              699 non-null    int64\n",
            " 8   Normal Nucleoli              699 non-null    int64\n",
            " 9   Mitoses                      699 non-null    int64\n",
            " 10  Class                        699 non-null    int64\n",
            "dtypes: int64(11)\n",
            "memory usage: 60.2 KB\n"
          ],
          "name": "stdout"
        },
        {
          "output_type": "stream",
          "text": [
            "/usr/local/lib/python3.6/dist-packages/ipykernel_launcher.py:4: SettingWithCopyWarning: \n",
            "A value is trying to be set on a copy of a slice from a DataFrame\n",
            "\n",
            "See the caveats in the documentation: https://pandas.pydata.org/pandas-docs/stable/user_guide/indexing.html#returning-a-view-versus-a-copy\n",
            "  after removing the cwd from sys.path.\n"
          ],
          "name": "stderr"
        }
      ]
    },
    {
      "cell_type": "code",
      "metadata": {
        "id": "5-CNtPd_6Ru9",
        "colab_type": "code",
        "colab": {
          "base_uri": "https://localhost:8080/",
          "height": 34
        },
        "outputId": "e0767177-d1c6-4053-b3bc-5d57b1f17cdf"
      },
      "source": [
        "#df=df.drop(['Unnamed: 32', 'id'], axis = 1) \n",
        "#print(df.shape)\n",
        "df=df.drop([\"Sample code number\"], axis = 1)\n",
        "print(df.shape)"
      ],
      "execution_count": 206,
      "outputs": [
        {
          "output_type": "stream",
          "text": [
            "(699, 10)\n"
          ],
          "name": "stdout"
        }
      ]
    },
    {
      "cell_type": "code",
      "metadata": {
        "id": "cMNz6wr_6pQ8",
        "colab_type": "code",
        "colab": {
          "base_uri": "https://localhost:8080/",
          "height": 204
        },
        "outputId": "507e2c27-1e09-47bb-cf7b-2bbff635803b"
      },
      "source": [
        "def Class_value(Class): \n",
        "     if Class == 2: \n",
        "         return 1\n",
        "     else: \n",
        "         return 0\n",
        "  \n",
        "df['Class'] = df['Class'].apply(Class_value) \n",
        "#df['Class'].head(10)"
      ],
      "execution_count": 207,
      "outputs": [
        {
          "output_type": "execute_result",
          "data": {
            "text/plain": [
              "0    1\n",
              "1    1\n",
              "2    1\n",
              "3    1\n",
              "4    1\n",
              "5    0\n",
              "6    1\n",
              "7    1\n",
              "8    1\n",
              "9    1\n",
              "Name: Class, dtype: int64"
            ]
          },
          "metadata": {
            "tags": []
          },
          "execution_count": 207
        }
      ]
    },
    {
      "cell_type": "code",
      "metadata": {
        "id": "KaZNP4eQ6xrg",
        "colab_type": "code",
        "colab": {}
      },
      "source": [
        "X = np.array(df.iloc[:, :9]) \n",
        "y = np.array(df['Class']) "
      ],
      "execution_count": 209,
      "outputs": []
    },
    {
      "cell_type": "code",
      "metadata": {
        "id": "OSAmv1RL65ge",
        "colab_type": "code",
        "colab": {}
      },
      "source": [
        "from sklearn.neighbors import KNeighborsClassifier\n",
        "from sklearn.model_selection import train_test_split \n",
        "X_train, X_test, y_train, y_test = train_test_split( \n",
        "     X, y, test_size = 0.20, random_state = 42) "
      ],
      "execution_count": 210,
      "outputs": []
    },
    {
      "cell_type": "code",
      "metadata": {
        "id": "sRR2EVdC7fm-",
        "colab_type": "code",
        "colab": {
          "base_uri": "https://localhost:8080/",
          "height": 68
        },
        "outputId": "1bea6272-247e-43bd-93e8-b276419efb73"
      },
      "source": [
        "knn = KNeighborsClassifier(n_neighbors = 15, metric='manhattan')# metric='euclidean') #metric='minkowski') \n",
        "knn.fit(X_train, y_train) "
      ],
      "execution_count": 211,
      "outputs": [
        {
          "output_type": "execute_result",
          "data": {
            "text/plain": [
              "KNeighborsClassifier(algorithm='auto', leaf_size=30, metric='manhattan',\n",
              "                     metric_params=None, n_jobs=None, n_neighbors=15, p=2,\n",
              "                     weights='uniform')"
            ]
          },
          "metadata": {
            "tags": []
          },
          "execution_count": 211
        }
      ]
    },
    {
      "cell_type": "code",
      "metadata": {
        "id": "o7q6waWU7j8t",
        "colab_type": "code",
        "colab": {}
      },
      "source": [
        "from sklearn import metrics \n",
        "from sklearn.metrics import precision_recall_fscore_support\n"
      ],
      "execution_count": 212,
      "outputs": []
    },
    {
      "cell_type": "code",
      "metadata": {
        "id": "CLeaqeQf_7GA",
        "colab_type": "code",
        "colab": {}
      },
      "source": [
        "# knn.score(X_test, y_test) \n",
        "y_pred=knn.predict(X_test)"
      ],
      "execution_count": 213,
      "outputs": []
    },
    {
      "cell_type": "code",
      "metadata": {
        "id": "xKTQ627RAKfo",
        "colab_type": "code",
        "colab": {
          "base_uri": "https://localhost:8080/",
          "height": 34
        },
        "outputId": "b4139a8e-96f4-4a94-99f3-46b74d97dce0"
      },
      "source": [
        "acc=(metrics.accuracy_score(y_test,y_pred)*100)\n",
        "acc    "
      ],
      "execution_count": 214,
      "outputs": [
        {
          "output_type": "execute_result",
          "data": {
            "text/plain": [
              "97.14285714285714"
            ]
          },
          "metadata": {
            "tags": []
          },
          "execution_count": 214
        }
      ]
    },
    {
      "cell_type": "code",
      "metadata": {
        "id": "GUv-mOotARPm",
        "colab_type": "code",
        "colab": {
          "base_uri": "https://localhost:8080/",
          "height": 34
        },
        "outputId": "1d81a062-a5a0-47f4-9eda-52395321d50f"
      },
      "source": [
        "knn.score(X_test, y_test) "
      ],
      "execution_count": 215,
      "outputs": [
        {
          "output_type": "execute_result",
          "data": {
            "text/plain": [
              "0.9714285714285714"
            ]
          },
          "metadata": {
            "tags": []
          },
          "execution_count": 215
        }
      ]
    },
    {
      "cell_type": "code",
      "metadata": {
        "id": "I72JqfMBIbFn",
        "colab_type": "code",
        "colab": {
          "base_uri": "https://localhost:8080/",
          "height": 34
        },
        "outputId": "e5c76001-5eb8-45e3-d1dd-0ae7a31f26d0"
      },
      "source": [
        "from sklearn.metrics import precision_score\n",
        "pre=(precision_score(y_test,y_pred)) #average='binary')*100)\n",
        "pre"
      ],
      "execution_count": 216,
      "outputs": [
        {
          "output_type": "execute_result",
          "data": {
            "text/plain": [
              "0.9690721649484536"
            ]
          },
          "metadata": {
            "tags": []
          },
          "execution_count": 216
        }
      ]
    },
    {
      "cell_type": "code",
      "metadata": {
        "id": "KVji9jTFI7qK",
        "colab_type": "code",
        "colab": {
          "base_uri": "https://localhost:8080/",
          "height": 34
        },
        "outputId": "7f4da9cc-4e58-45ad-ae63-e6469deda502"
      },
      "source": [
        "from sklearn.metrics import recall_score\n",
        "rec=(recall_score(y_test,y_pred))# average='binary')*100)\n",
        "rec\n",
        " "
      ],
      "execution_count": 217,
      "outputs": [
        {
          "output_type": "execute_result",
          "data": {
            "text/plain": [
              "0.9894736842105263"
            ]
          },
          "metadata": {
            "tags": []
          },
          "execution_count": 217
        }
      ]
    },
    {
      "cell_type": "code",
      "metadata": {
        "id": "3H5IBfemJPgc",
        "colab_type": "code",
        "colab": {}
      },
      "source": [
        "\n"
      ],
      "execution_count": null,
      "outputs": []
    },
    {
      "cell_type": "code",
      "metadata": {
        "id": "eyMYLHDRQUep",
        "colab_type": "code",
        "colab": {}
      },
      "source": [
        ""
      ],
      "execution_count": null,
      "outputs": []
    }
  ]
}