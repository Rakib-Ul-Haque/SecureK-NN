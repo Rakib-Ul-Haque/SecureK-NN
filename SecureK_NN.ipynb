{
  "nbformat": 4,
  "nbformat_minor": 0,
  "metadata": {
    "colab": {
      "name": "SecureK-NN.ipynb",
      "provenance": [],
      "authorship_tag": "ABX9TyP9HZ3SCYJHkR0l3GqmvQkC",
      "include_colab_link": true
    },
    "kernelspec": {
      "name": "python3",
      "display_name": "Python 3"
    }
  },
  "cells": [
    {
      "cell_type": "markdown",
      "metadata": {
        "id": "view-in-github",
        "colab_type": "text"
      },
      "source": [
        "<a href=\"https://colab.research.google.com/github/Rakib-Ul-Haque/SecureK-NN/blob/master/SecureK_NN.ipynb\" target=\"_parent\"><img src=\"https://colab.research.google.com/assets/colab-badge.svg\" alt=\"Open In Colab\"/></a>"
      ]
    },
    {
      "cell_type": "markdown",
      "metadata": {
        "id": "S5_hIg-N5wUp",
        "colab_type": "text"
      },
      "source": [
        "## **General K-NN with Manhattan Distance at 10K-fold and for BCWD data** "
      ]
    },
    {
      "cell_type": "code",
      "metadata": {
        "id": "S1qLc-JQKHPm",
        "colab_type": "code",
        "colab": {}
      },
      "source": [
        "# Library Declaration  \n",
        "import numpy as np \n",
        "import pandas as pd \n",
        "from sklearn.neighbors import KNeighborsClassifier\n",
        "from sklearn.model_selection import train_test_split \n",
        "from sklearn.model_selection import cross_val_score\n",
        "import numpy as np"
      ],
      "execution_count": 637,
      "outputs": []
    },
    {
      "cell_type": "code",
      "metadata": {
        "id": "dqIeUrw9YEH2",
        "colab_type": "code",
        "colab": {
          "base_uri": "https://localhost:8080/",
          "height": 255
        },
        "outputId": "60fe0664-36bd-45f1-c237-744c4484d23f"
      },
      "source": [
        "df = pd.read_table('breast-cancer-wisconsin.data', sep=',', names=[\"Sample code number\", \"Clump Thickness\", \"Uniformity of Cell Size\", \"Uniformity of Cell Shape\", \"Marginal Adhesion\", \"Single Epithelial Cell Size\",\"Bare Nuclei\", \"Bland Chromatin\", \"Normal Nucleoli\",\"Mitoses\",\"Class\"]) \n",
        "print(df.head)"
      ],
      "execution_count": 638,
      "outputs": [
        {
          "output_type": "stream",
          "text": [
            "<bound method NDFrame.head of      Sample code number  Clump Thickness  ...  Mitoses  Class\n",
            "0               1000025                5  ...        1      2\n",
            "1               1002945                5  ...        1      2\n",
            "2               1015425                3  ...        1      2\n",
            "3               1016277                6  ...        1      2\n",
            "4               1017023                4  ...        1      2\n",
            "..                  ...              ...  ...      ...    ...\n",
            "694              776715                3  ...        1      2\n",
            "695              841769                2  ...        1      2\n",
            "696              888820                5  ...        2      4\n",
            "697              897471                4  ...        1      4\n",
            "698              897471                4  ...        1      4\n",
            "\n",
            "[699 rows x 11 columns]>\n"
          ],
          "name": "stdout"
        }
      ]
    },
    {
      "cell_type": "code",
      "metadata": {
        "id": "sJc218vL6EBz",
        "colab_type": "code",
        "colab": {
          "base_uri": "https://localhost:8080/",
          "height": 428
        },
        "outputId": "8772d669-3698-42dc-d860-bb54af324e9b"
      },
      "source": [
        "# Data Cleaning\n",
        "df[\"Bare Nuclei\"][df[\"Bare Nuclei\"]=='?']='0'\n",
        "df[\"Bare Nuclei\"] = df[\"Bare Nuclei\"].astype(str).astype(int)\n",
        "df.info()\n",
        "# pd.to_numeric(df[\"Bare Nuclei\"])"
      ],
      "execution_count": 639,
      "outputs": [
        {
          "output_type": "stream",
          "text": [
            "<class 'pandas.core.frame.DataFrame'>\n",
            "RangeIndex: 699 entries, 0 to 698\n",
            "Data columns (total 11 columns):\n",
            " #   Column                       Non-Null Count  Dtype\n",
            "---  ------                       --------------  -----\n",
            " 0   Sample code number           699 non-null    int64\n",
            " 1   Clump Thickness              699 non-null    int64\n",
            " 2   Uniformity of Cell Size      699 non-null    int64\n",
            " 3   Uniformity of Cell Shape     699 non-null    int64\n",
            " 4   Marginal Adhesion            699 non-null    int64\n",
            " 5   Single Epithelial Cell Size  699 non-null    int64\n",
            " 6   Bare Nuclei                  699 non-null    int64\n",
            " 7   Bland Chromatin              699 non-null    int64\n",
            " 8   Normal Nucleoli              699 non-null    int64\n",
            " 9   Mitoses                      699 non-null    int64\n",
            " 10  Class                        699 non-null    int64\n",
            "dtypes: int64(11)\n",
            "memory usage: 60.2 KB\n"
          ],
          "name": "stdout"
        },
        {
          "output_type": "stream",
          "text": [
            "/usr/local/lib/python3.6/dist-packages/ipykernel_launcher.py:2: SettingWithCopyWarning: \n",
            "A value is trying to be set on a copy of a slice from a DataFrame\n",
            "\n",
            "See the caveats in the documentation: https://pandas.pydata.org/pandas-docs/stable/user_guide/indexing.html#returning-a-view-versus-a-copy\n",
            "  \n"
          ],
          "name": "stderr"
        }
      ]
    },
    {
      "cell_type": "code",
      "metadata": {
        "id": "5-CNtPd_6Ru9",
        "colab_type": "code",
        "colab": {
          "base_uri": "https://localhost:8080/",
          "height": 34
        },
        "outputId": "44dddb45-9b40-4c56-9cab-6bc947e4767b"
      },
      "source": [
        "# Data Cleaning\n",
        "df=df.drop([\"Sample code number\"], axis = 1)\n",
        "print(df.shape)"
      ],
      "execution_count": 640,
      "outputs": [
        {
          "output_type": "stream",
          "text": [
            "(699, 10)\n"
          ],
          "name": "stdout"
        }
      ]
    },
    {
      "cell_type": "code",
      "metadata": {
        "id": "cMNz6wr_6pQ8",
        "colab_type": "code",
        "colab": {}
      },
      "source": [
        "# Data Cleaning\n",
        "def Class_value(Class): \n",
        "     if Class == 2: \n",
        "         return 1\n",
        "     else: \n",
        "         return 0\n",
        "  \n",
        "df['Class'] = df['Class'].apply(Class_value) \n",
        "#df['Class'].head(10)"
      ],
      "execution_count": 641,
      "outputs": []
    },
    {
      "cell_type": "code",
      "metadata": {
        "id": "KaZNP4eQ6xrg",
        "colab_type": "code",
        "colab": {}
      },
      "source": [
        "# Data Preparing\n",
        "X = np.array(df.iloc[:, :9]) \n",
        "y = np.array(df['Class']) "
      ],
      "execution_count": 642,
      "outputs": []
    },
    {
      "cell_type": "code",
      "metadata": {
        "id": "OSAmv1RL65ge",
        "colab_type": "code",
        "colab": {}
      },
      "source": [
        "# Data Preparing\n",
        "X_train, X_test, y_train, y_test = train_test_split(X, y, test_size = 0.20, random_state = 42) "
      ],
      "execution_count": 643,
      "outputs": []
    },
    {
      "cell_type": "code",
      "metadata": {
        "id": "sRR2EVdC7fm-",
        "colab_type": "code",
        "colab": {}
      },
      "source": [
        "# knn = KNeighborsClassifier(n_neighbors = 15, metric='manhattan')# metric='euclidean') #metric='minkowski') \n",
        "# knn.fit(X_train, y_train) \n",
        "# from sklearn import metrics \n",
        "# from sklearn.metrics import precision_recall_fscore_support\n",
        "# knn.score(X_test, y_test) \n",
        "# y_pred=knn.predict(X_test)\n",
        "# acc=(metrics.accuracy_score(y_test,y_pred)*100)\n",
        "# acc    \n",
        "# knn.score(X_test, y_test) \n",
        "# from sklearn.metrics import precision_score\n",
        "# pre=(precision_score(y_test,y_pred)) #average='binary')*100)\n",
        "# pre\n",
        "# from sklearn.metrics import recall_score\n",
        "# rec=(recall_score(y_test,y_pred))# average='binary')*100)\n",
        "# rec\n",
        "# from sklearn.metrics import f1_score\n",
        "# f1=(f1_score(y_test,y_pred))# average='binary')*100)\n",
        "# f1 "
      ],
      "execution_count": 644,
      "outputs": []
    },
    {
      "cell_type": "code",
      "metadata": {
        "id": "o7q6waWU7j8t",
        "colab_type": "code",
        "colab": {
          "base_uri": "https://localhost:8080/",
          "height": 85
        },
        "outputId": "2330016e-4157-4900-fda8-0320d24c2c51"
      },
      "source": [
        "#create a new KNN model\n",
        "knn_cv = KNeighborsClassifier(n_neighbors=2, metric='manhattan')\n",
        "#train model with cv of 10\n",
        "\n",
        "accK = cross_val_score(knn_cv, X_train, y_train, cv=10)\n",
        "#print each cv score (accuracy) and average them\n",
        "# print(accK)\n",
        "print(\"Acuracy:\",np.mean(accK)*100)\n",
        "\n",
        "preK = cross_val_score(knn_cv, X_train, y_train, cv=10, scoring='precision_macro')\n",
        "#print each cv score (Precision) and average them\n",
        "# print(preK)\n",
        "print(\"Precision:\",np.mean(preK)*100)\n",
        "\n",
        "recK = cross_val_score(knn_cv, X_train, y_train, cv=10, scoring='recall_macro')\n",
        "#print each cv score (Recall) and average them\n",
        "# print(recK)\n",
        "print(\"Recall:\",np.mean(recK)*100)\n",
        "\n",
        "f1K = cross_val_score(knn_cv, X_train, y_train, cv=10, scoring='f1_macro')\n",
        "#print each cv score (F1-Score) and average them\n",
        "# print(f1K)\n",
        "print(\"F1:\",np.mean(f1K))"
      ],
      "execution_count": 645,
      "outputs": [
        {
          "output_type": "stream",
          "text": [
            "Acuracy: 96.95779220779221\n",
            "Precision: 96.31166368008473\n",
            "Recall: 97.19254781096886\n",
            "F1: 0.9669450808619586\n"
          ],
          "name": "stdout"
        }
      ]
    },
    {
      "cell_type": "markdown",
      "metadata": {
        "id": "A0OP3C73rc5Q",
        "colab_type": "text"
      },
      "source": [
        "## **General SVM at 10K-Fold on BCWD**"
      ]
    },
    {
      "cell_type": "code",
      "metadata": {
        "id": "CLeaqeQf_7GA",
        "colab_type": "code",
        "colab": {}
      },
      "source": [
        "from sklearn import svm"
      ],
      "execution_count": 646,
      "outputs": []
    },
    {
      "cell_type": "code",
      "metadata": {
        "id": "xKTQ627RAKfo",
        "colab_type": "code",
        "colab": {}
      },
      "source": [
        "# from sklearn.model_selection import train_test_split\n",
        "# # Split dataset into training set and test set\n",
        "# X_train, X_test, y_train, y_test = train_test_split(cancer.data, cancer.target, test_size=0.3,random_state=109) # 70% training and 30% test\n",
        "# clf = svm.SVC(kernel='linear') # Linear Kernel\n",
        "# #Train the model using the training sets\n",
        "# clf.fit(X_train, y_train)\n",
        "# #Predict the response for test dataset\n",
        "# y_pred = clf.predict(X_test)\n",
        "# from sklearn import metrics\n",
        "# # Model Accuracy: how often is the classifier correct?\n",
        "# print(\"Accuracy:\",metrics.accuracy_score(y_test, y_pred))\n",
        "# from sklearn.model_selection import cross_val_score\n",
        "# import numpy as np"
      ],
      "execution_count": 647,
      "outputs": []
    },
    {
      "cell_type": "code",
      "metadata": {
        "id": "GUv-mOotARPm",
        "colab_type": "code",
        "colab": {
          "base_uri": "https://localhost:8080/",
          "height": 85
        },
        "outputId": "8dd37cf3-8212-4a0f-e474-399186a4db61"
      },
      "source": [
        "#create a new SVM model\n",
        "clf = svm.SVC(kernel='linear')\n",
        "#train model with cv of 10\n",
        "\n",
        "accSVM = cross_val_score(clf, X_train, y_train, cv=10)\n",
        "#print each cv score (accuracy) and average them\n",
        "# print(accSVM)\n",
        "print(\"Acuracy:\",np.mean(accSVM)*100)\n",
        " \n",
        "preSVM = cross_val_score(clf, X_train, y_train, cv=10, scoring='precision_macro')\n",
        "#print each cv score (Precision) and average them\n",
        "# print(preSVM)\n",
        "print(\"Precision:\",np.mean(preSVM)*100)\n",
        "\n",
        "recSVM = cross_val_score(clf, X_train, y_train, cv=10, scoring='recall_macro')\n",
        "#print each cv score (Recall) and average them\n",
        "# print(recSVM)\n",
        "print(\"Recall:\",np.mean(recSVM)*100)\n",
        "\n",
        "f1SVM = cross_val_score(clf, X_train, y_train, cv=10, scoring='f1_macro')\n",
        "#print each cv score (F1-Score) and average them\n",
        "# print(f1SVM)\n",
        "print(\"F1:\",np.mean(f1SVM))\n"
      ],
      "execution_count": 648,
      "outputs": [
        {
          "output_type": "stream",
          "text": [
            "Acuracy: 96.60389610389612\n",
            "Precision: 96.16123077965183\n",
            "Recall: 96.4571676940098\n",
            "F1: 0.9628082152005861\n"
          ],
          "name": "stdout"
        }
      ]
    },
    {
      "cell_type": "code",
      "metadata": {
        "id": "I72JqfMBIbFn",
        "colab_type": "code",
        "colab": {}
      },
      "source": [
        ""
      ],
      "execution_count": 519,
      "outputs": []
    },
    {
      "cell_type": "code",
      "metadata": {
        "id": "KVji9jTFI7qK",
        "colab_type": "code",
        "colab": {}
      },
      "source": [
        ""
      ],
      "execution_count": 520,
      "outputs": []
    },
    {
      "cell_type": "code",
      "metadata": {
        "id": "3H5IBfemJPgc",
        "colab_type": "code",
        "colab": {}
      },
      "source": [
        ""
      ],
      "execution_count": 521,
      "outputs": []
    },
    {
      "cell_type": "code",
      "metadata": {
        "id": "hXFzjVJ_uUbx",
        "colab_type": "code",
        "colab": {}
      },
      "source": [
        ""
      ],
      "execution_count": 648,
      "outputs": []
    },
    {
      "cell_type": "code",
      "metadata": {
        "id": "hew20pv1uVG0",
        "colab_type": "code",
        "colab": {}
      },
      "source": [
        ""
      ],
      "execution_count": 526,
      "outputs": []
    },
    {
      "cell_type": "code",
      "metadata": {
        "id": "1bkmKJyMXtE6",
        "colab_type": "code",
        "colab": {}
      },
      "source": [
        ""
      ],
      "execution_count": 524,
      "outputs": []
    },
    {
      "cell_type": "code",
      "metadata": {
        "id": "ZPSmRp6QXyg5",
        "colab_type": "code",
        "colab": {}
      },
      "source": [
        ""
      ],
      "execution_count": 648,
      "outputs": []
    },
    {
      "cell_type": "code",
      "metadata": {
        "id": "WlFktcqGXzC-",
        "colab_type": "code",
        "colab": {}
      },
      "source": [
        ""
      ],
      "execution_count": 648,
      "outputs": []
    },
    {
      "cell_type": "code",
      "metadata": {
        "id": "PkW0SVx3Xy0p",
        "colab_type": "code",
        "colab": {}
      },
      "source": [
        ""
      ],
      "execution_count": null,
      "outputs": []
    },
    {
      "cell_type": "code",
      "metadata": {
        "id": "vRji5XSBuT1o",
        "colab_type": "code",
        "colab": {}
      },
      "source": [
        ""
      ],
      "execution_count": null,
      "outputs": []
    },
    {
      "cell_type": "markdown",
      "metadata": {
        "id": "QOhMiNR121eP",
        "colab_type": "text"
      },
      "source": [
        "HDD dataset"
      ]
    },
    {
      "cell_type": "code",
      "metadata": {
        "id": "eyMYLHDRQUep",
        "colab_type": "code",
        "colab": {}
      },
      "source": [
        "# performing linear algebra \n",
        "import numpy as np    \n",
        "# data processing \n",
        "import pandas as pd \n",
        "# visualisation \n",
        "import matplotlib.pyplot as plt "
      ],
      "execution_count": 396,
      "outputs": []
    },
    {
      "cell_type": "code",
      "metadata": {
        "id": "SLi8D3iHMMKn",
        "colab_type": "code",
        "colab": {}
      },
      "source": [
        "df = pd.read_table('reprocessed.hungarian.data', sep=',', names=[\"age\",\"sex\",\"cp\",\"trestbps\",\"chol\",\"fbs\",\"restecg\",\"thalach\",\"exang\",\"oldpeak\",\"slope\",\"ca\",\"thal\",\"num\"]) \n",
        "# df.head(3)"
      ],
      "execution_count": 403,
      "outputs": []
    },
    {
      "cell_type": "code",
      "metadata": {
        "id": "B7aZgg8iMN2u",
        "colab_type": "code",
        "colab": {
          "base_uri": "https://localhost:8080/",
          "height": 374
        },
        "outputId": "78c75124-aac8-4b32-bbac-b2d963c15996"
      },
      "source": [
        "#df = df[:-1]\n",
        "# print(df)\n",
        "df.info()"
      ],
      "execution_count": 404,
      "outputs": [
        {
          "output_type": "stream",
          "text": [
            "<class 'pandas.core.frame.DataFrame'>\n",
            "RangeIndex: 303 entries, 0 to 302\n",
            "Data columns (total 14 columns):\n",
            " #   Column    Non-Null Count  Dtype  \n",
            "---  ------    --------------  -----  \n",
            " 0   age       303 non-null    float64\n",
            " 1   sex       303 non-null    float64\n",
            " 2   cp        303 non-null    float64\n",
            " 3   trestbps  303 non-null    float64\n",
            " 4   chol      303 non-null    float64\n",
            " 5   fbs       303 non-null    float64\n",
            " 6   restecg   303 non-null    float64\n",
            " 7   thalach   303 non-null    float64\n",
            " 8   exang     303 non-null    float64\n",
            " 9   oldpeak   303 non-null    float64\n",
            " 10  slope     303 non-null    float64\n",
            " 11  ca        303 non-null    object \n",
            " 12  thal      303 non-null    object \n",
            " 13  num       303 non-null    int64  \n",
            "dtypes: float64(11), int64(1), object(2)\n",
            "memory usage: 33.3+ KB\n"
          ],
          "name": "stdout"
        }
      ]
    },
    {
      "cell_type": "code",
      "metadata": {
        "id": "95Ue2J3nMOVu",
        "colab_type": "code",
        "colab": {
          "base_uri": "https://localhost:8080/",
          "height": 374
        },
        "outputId": "ba89c509-6d86-400e-87d2-06db76bc27ea"
      },
      "source": [
        "df=df[df.ca != '?']\n",
        "df=df[df.thal != '?']\n",
        "df[\"thal\"] = df[\"thal\"].astype(str).astype(float)\n",
        "df[\"ca\"] = df[\"ca\"].astype(str).astype(float)\n",
        "df.info()\n"
      ],
      "execution_count": 405,
      "outputs": [
        {
          "output_type": "stream",
          "text": [
            "<class 'pandas.core.frame.DataFrame'>\n",
            "Int64Index: 297 entries, 0 to 301\n",
            "Data columns (total 14 columns):\n",
            " #   Column    Non-Null Count  Dtype  \n",
            "---  ------    --------------  -----  \n",
            " 0   age       297 non-null    float64\n",
            " 1   sex       297 non-null    float64\n",
            " 2   cp        297 non-null    float64\n",
            " 3   trestbps  297 non-null    float64\n",
            " 4   chol      297 non-null    float64\n",
            " 5   fbs       297 non-null    float64\n",
            " 6   restecg   297 non-null    float64\n",
            " 7   thalach   297 non-null    float64\n",
            " 8   exang     297 non-null    float64\n",
            " 9   oldpeak   297 non-null    float64\n",
            " 10  slope     297 non-null    float64\n",
            " 11  ca        297 non-null    float64\n",
            " 12  thal      297 non-null    float64\n",
            " 13  num       297 non-null    int64  \n",
            "dtypes: float64(13), int64(1)\n",
            "memory usage: 34.8 KB\n"
          ],
          "name": "stdout"
        }
      ]
    },
    {
      "cell_type": "code",
      "metadata": {
        "id": "BhteG1Lqa3fd",
        "colab_type": "code",
        "colab": {
          "base_uri": "https://localhost:8080/",
          "height": 255
        },
        "outputId": "bac2e717-7092-45cb-acfa-035eb68998db"
      },
      "source": [
        "X = np.array(df.iloc[:, :13]) \n",
        "y = np.array(df['num'])\n",
        "y"
      ],
      "execution_count": 408,
      "outputs": [
        {
          "output_type": "execute_result",
          "data": {
            "text/plain": [
              "array([0, 2, 1, 0, 0, 0, 3, 0, 2, 1, 0, 0, 2, 0, 0, 0, 1, 0, 0, 0, 0, 0,\n",
              "       1, 3, 4, 0, 0, 0, 0, 3, 0, 2, 1, 0, 0, 0, 3, 1, 3, 0, 4, 0, 0, 0,\n",
              "       1, 4, 0, 4, 0, 0, 0, 0, 2, 0, 1, 1, 1, 1, 0, 0, 2, 0, 1, 0, 2, 2,\n",
              "       1, 0, 2, 1, 0, 3, 1, 1, 1, 0, 1, 0, 0, 3, 0, 0, 0, 3, 0, 0, 0, 0,\n",
              "       0, 0, 3, 0, 0, 0, 1, 2, 3, 0, 0, 0, 0, 0, 0, 3, 0, 2, 1, 2, 3, 1,\n",
              "       1, 0, 2, 2, 0, 0, 0, 3, 2, 3, 4, 0, 3, 1, 0, 3, 3, 0, 0, 0, 0, 0,\n",
              "       0, 0, 0, 4, 3, 1, 0, 0, 1, 0, 1, 0, 1, 4, 0, 0, 0, 0, 0, 0, 4, 3,\n",
              "       1, 1, 1, 2, 0, 0, 4, 0, 0, 0, 0, 0, 1, 0, 3, 0, 1, 0, 4, 1, 0, 1,\n",
              "       0, 0, 3, 2, 0, 0, 1, 0, 0, 2, 1, 2, 0, 3, 2, 0, 3, 0, 0, 0, 1, 0,\n",
              "       0, 0, 0, 0, 3, 3, 3, 0, 1, 0, 4, 0, 3, 1, 0, 0, 0, 0, 0, 0, 0, 0,\n",
              "       3, 1, 0, 0, 0, 3, 2, 0, 2, 1, 0, 0, 3, 2, 1, 0, 0, 0, 0, 0, 2, 0,\n",
              "       2, 2, 1, 3, 0, 0, 1, 0, 0, 0, 0, 0, 0, 0, 1, 0, 3, 0, 0, 4, 2, 2,\n",
              "       1, 0, 1, 0, 2, 0, 1, 0, 0, 0, 1, 0, 2, 0, 3, 0, 2, 4, 2, 0, 0, 1,\n",
              "       0, 2, 2, 1, 0, 3, 1, 1, 2, 3, 1])"
            ]
          },
          "metadata": {
            "tags": []
          },
          "execution_count": 408
        }
      ]
    },
    {
      "cell_type": "code",
      "metadata": {
        "id": "jQZ3S-x1Q-5C",
        "colab_type": "code",
        "colab": {}
      },
      "source": [
        "# knn.score(X_test, y_test) \n",
        "from sklearn.neighbors import KNeighborsClassifier\n",
        "from sklearn.model_selection import train_test_split "
      ],
      "execution_count": 409,
      "outputs": []
    },
    {
      "cell_type": "code",
      "metadata": {
        "id": "u1sFW6MQYzd8",
        "colab_type": "code",
        "colab": {}
      },
      "source": [
        "X_train, X_test, y_train, y_test = train_test_split( \n",
        "     X, y, test_size = 0.20, random_state = 42) "
      ],
      "execution_count": 410,
      "outputs": []
    },
    {
      "cell_type": "code",
      "metadata": {
        "id": "Vxwog3fFY6Kq",
        "colab_type": "code",
        "colab": {
          "base_uri": "https://localhost:8080/",
          "height": 68
        },
        "outputId": "c5f42776-59cf-41b1-b41e-105915d9440d"
      },
      "source": [
        "knn = KNeighborsClassifier(n_neighbors = 9, metric='manhattan')# metric='euclidean') #metric='minkowski') \n",
        "knn.fit(X_train, y_train) "
      ],
      "execution_count": 411,
      "outputs": [
        {
          "output_type": "execute_result",
          "data": {
            "text/plain": [
              "KNeighborsClassifier(algorithm='auto', leaf_size=30, metric='manhattan',\n",
              "                     metric_params=None, n_jobs=None, n_neighbors=9, p=2,\n",
              "                     weights='uniform')"
            ]
          },
          "metadata": {
            "tags": []
          },
          "execution_count": 411
        }
      ]
    },
    {
      "cell_type": "code",
      "metadata": {
        "id": "u0wKZ-WuY8mR",
        "colab_type": "code",
        "colab": {}
      },
      "source": [
        "from sklearn import metrics \n",
        "from sklearn.metrics import precision_recall_fscore_support\n",
        "\n",
        "y_pred=knn.predict(X_test)\n"
      ],
      "execution_count": 412,
      "outputs": []
    },
    {
      "cell_type": "code",
      "metadata": {
        "id": "rCKUpERhcqSN",
        "colab_type": "code",
        "colab": {
          "base_uri": "https://localhost:8080/",
          "height": 34
        },
        "outputId": "5ed2258c-de19-414b-d9e3-56c2fb1df3ed"
      },
      "source": [
        "from sklearn import metrics \n",
        "from sklearn.metrics import precision_recall_fscore_support\n",
        "\n",
        "acc=(metrics.accuracy_score(y_test,y_pred)*100)\n",
        "acc    \n"
      ],
      "execution_count": 413,
      "outputs": [
        {
          "output_type": "execute_result",
          "data": {
            "text/plain": [
              "60.0"
            ]
          },
          "metadata": {
            "tags": []
          },
          "execution_count": 413
        }
      ]
    },
    {
      "cell_type": "code",
      "metadata": {
        "id": "zTHXF4NCZBgR",
        "colab_type": "code",
        "colab": {
          "base_uri": "https://localhost:8080/",
          "height": 34
        },
        "outputId": "9ad5f279-a0a4-4c71-ced8-0f37abdb357d"
      },
      "source": [
        "knn.score(X_test, y_test) "
      ],
      "execution_count": 414,
      "outputs": [
        {
          "output_type": "execute_result",
          "data": {
            "text/plain": [
              "0.6"
            ]
          },
          "metadata": {
            "tags": []
          },
          "execution_count": 414
        }
      ]
    },
    {
      "cell_type": "code",
      "metadata": {
        "id": "gPSVjrBoZF0B",
        "colab_type": "code",
        "colab": {
          "base_uri": "https://localhost:8080/",
          "height": 88
        },
        "outputId": "085d3e61-53fc-47cd-fc9f-cc1ef771dbab"
      },
      "source": [
        "from sklearn.metrics import precision_score\n",
        "pre=(precision_score(y_test,y_pred, average='macro')*100)\n",
        "pre"
      ],
      "execution_count": 415,
      "outputs": [
        {
          "output_type": "stream",
          "text": [
            "/usr/local/lib/python3.6/dist-packages/sklearn/metrics/_classification.py:1272: UndefinedMetricWarning: Precision is ill-defined and being set to 0.0 in labels with no predicted samples. Use `zero_division` parameter to control this behavior.\n",
            "  _warn_prf(average, modifier, msg_start, len(result))\n"
          ],
          "name": "stderr"
        },
        {
          "output_type": "execute_result",
          "data": {
            "text/plain": [
              "17.058823529411764"
            ]
          },
          "metadata": {
            "tags": []
          },
          "execution_count": 415
        }
      ]
    },
    {
      "cell_type": "code",
      "metadata": {
        "id": "cfTGS5PkZMFo",
        "colab_type": "code",
        "colab": {
          "base_uri": "https://localhost:8080/",
          "height": 34
        },
        "outputId": "c2017ade-137d-49b7-94c3-ea39d6529f14"
      },
      "source": [
        "from sklearn.metrics import recall_score\n",
        "rec=(recall_score(y_test,y_pred, average='macro')*100)\n",
        "rec "
      ],
      "execution_count": 416,
      "outputs": [
        {
          "output_type": "execute_result",
          "data": {
            "text/plain": [
              "21.666666666666664"
            ]
          },
          "metadata": {
            "tags": []
          },
          "execution_count": 416
        }
      ]
    },
    {
      "cell_type": "code",
      "metadata": {
        "id": "qsNCp9XgZewP",
        "colab_type": "code",
        "colab": {
          "base_uri": "https://localhost:8080/",
          "height": 34
        },
        "outputId": "fd46a065-c672-4888-eb02-b81a21a1795e"
      },
      "source": [
        "from sklearn.metrics import f1_score\n",
        "f1=(f1_score(y_test,y_pred, average='macro'))\n",
        "f1\n"
      ],
      "execution_count": 417,
      "outputs": [
        {
          "output_type": "execute_result",
          "data": {
            "text/plain": [
              "0.18758620689655173"
            ]
          },
          "metadata": {
            "tags": []
          },
          "execution_count": 417
        }
      ]
    }
  ]
}