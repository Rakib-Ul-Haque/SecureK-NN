{
  "nbformat": 4,
  "nbformat_minor": 0,
  "metadata": {
    "colab": {
      "name": "SecureK-NN.ipynb",
      "provenance": [],
      "authorship_tag": "ABX9TyNmCD89yIcW+1aEy95uUgfs",
      "include_colab_link": true
    },
    "kernelspec": {
      "name": "python3",
      "display_name": "Python 3"
    }
  },
  "cells": [
    {
      "cell_type": "markdown",
      "metadata": {
        "id": "view-in-github",
        "colab_type": "text"
      },
      "source": [
        "<a href=\"https://colab.research.google.com/github/Rakib-Ul-Haque/SecureK-NN/blob/master/SecureK_NN.ipynb\" target=\"_parent\"><img src=\"https://colab.research.google.com/assets/colab-badge.svg\" alt=\"Open In Colab\"/></a>"
      ]
    },
    {
      "cell_type": "markdown",
      "metadata": {
        "id": "S5_hIg-N5wUp",
        "colab_type": "text"
      },
      "source": [
        "## **General K-NN with Manhattan Distance at 10K-fold for BCWD data** "
      ]
    },
    {
      "cell_type": "code",
      "metadata": {
        "id": "S1qLc-JQKHPm",
        "colab_type": "code",
        "colab": {}
      },
      "source": [
        "# Library Declaration  \n",
        "import numpy as np \n",
        "import pandas as pd \n",
        "from sklearn.neighbors import KNeighborsClassifier\n",
        "from sklearn.model_selection import train_test_split \n",
        "from sklearn.model_selection import cross_val_score\n",
        "import numpy as np\n",
        "import matplotlib.pyplot as plt\n",
        "from matplotlib import rcParams\n",
        "from matplotlib.cm import rainbow\n",
        "%matplotlib inline\n",
        "import warnings\n",
        "warnings.filterwarnings('ignore')"
      ],
      "execution_count": null,
      "outputs": []
    },
    {
      "cell_type": "code",
      "metadata": {
        "id": "dqIeUrw9YEH2",
        "colab_type": "code",
        "colab": {
          "base_uri": "https://localhost:8080/",
          "height": 255
        },
        "outputId": "e06f14c8-8371-4751-e411-50587cb1efb4"
      },
      "source": [
        "# Data Input\n",
        "df = pd.read_table('breast-cancer-wisconsin.data', sep=',', names=[\"Sample code number\", \"Clump Thickness\", \"Uniformity of Cell Size\", \"Uniformity of Cell Shape\", \"Marginal Adhesion\", \"Single Epithelial Cell Size\",\"Bare Nuclei\", \"Bland Chromatin\", \"Normal Nucleoli\",\"Mitoses\",\"Class\"]) \n",
        "print(df.head)"
      ],
      "execution_count": null,
      "outputs": [
        {
          "output_type": "stream",
          "text": [
            "<bound method NDFrame.head of      Sample code number  Clump Thickness  ...  Mitoses  Class\n",
            "0               1000025                5  ...        1      2\n",
            "1               1002945                5  ...        1      2\n",
            "2               1015425                3  ...        1      2\n",
            "3               1016277                6  ...        1      2\n",
            "4               1017023                4  ...        1      2\n",
            "..                  ...              ...  ...      ...    ...\n",
            "694              776715                3  ...        1      2\n",
            "695              841769                2  ...        1      2\n",
            "696              888820                5  ...        2      4\n",
            "697              897471                4  ...        1      4\n",
            "698              897471                4  ...        1      4\n",
            "\n",
            "[699 rows x 11 columns]>\n"
          ],
          "name": "stdout"
        }
      ]
    },
    {
      "cell_type": "code",
      "metadata": {
        "id": "sJc218vL6EBz",
        "colab_type": "code",
        "colab": {
          "base_uri": "https://localhost:8080/",
          "height": 323
        },
        "outputId": "09aa6e94-b29a-4a2c-a1a2-c3085baefbd6"
      },
      "source": [
        "# Data Cleaning\n",
        "df[\"Bare Nuclei\"][df[\"Bare Nuclei\"]=='?']='0'\n",
        "df[\"Bare Nuclei\"] = df[\"Bare Nuclei\"].astype(str).astype(int)\n",
        "df.info()\n",
        "# pd.to_numeric(df[\"Bare Nuclei\"])"
      ],
      "execution_count": null,
      "outputs": [
        {
          "output_type": "stream",
          "text": [
            "<class 'pandas.core.frame.DataFrame'>\n",
            "RangeIndex: 699 entries, 0 to 698\n",
            "Data columns (total 11 columns):\n",
            " #   Column                       Non-Null Count  Dtype\n",
            "---  ------                       --------------  -----\n",
            " 0   Sample code number           699 non-null    int64\n",
            " 1   Clump Thickness              699 non-null    int64\n",
            " 2   Uniformity of Cell Size      699 non-null    int64\n",
            " 3   Uniformity of Cell Shape     699 non-null    int64\n",
            " 4   Marginal Adhesion            699 non-null    int64\n",
            " 5   Single Epithelial Cell Size  699 non-null    int64\n",
            " 6   Bare Nuclei                  699 non-null    int64\n",
            " 7   Bland Chromatin              699 non-null    int64\n",
            " 8   Normal Nucleoli              699 non-null    int64\n",
            " 9   Mitoses                      699 non-null    int64\n",
            " 10  Class                        699 non-null    int64\n",
            "dtypes: int64(11)\n",
            "memory usage: 60.2 KB\n"
          ],
          "name": "stdout"
        }
      ]
    },
    {
      "cell_type": "code",
      "metadata": {
        "id": "5-CNtPd_6Ru9",
        "colab_type": "code",
        "colab": {
          "base_uri": "https://localhost:8080/",
          "height": 34
        },
        "outputId": "28d5c626-5cb5-4a4e-98be-e84031fa980e"
      },
      "source": [
        "# Data Cleaning\n",
        "df=df.drop([\"Sample code number\"], axis = 1)\n",
        "print(df.shape)"
      ],
      "execution_count": null,
      "outputs": [
        {
          "output_type": "stream",
          "text": [
            "(699, 10)\n"
          ],
          "name": "stdout"
        }
      ]
    },
    {
      "cell_type": "code",
      "metadata": {
        "id": "cMNz6wr_6pQ8",
        "colab_type": "code",
        "colab": {}
      },
      "source": [
        "# Data Cleaning\n",
        "def Class_value(Class): \n",
        "     if Class == 2: \n",
        "         return 1\n",
        "     else: \n",
        "         return 0\n",
        "  \n",
        "df['Class'] = df['Class'].apply(Class_value) \n",
        "#df['Class'].head(10)"
      ],
      "execution_count": null,
      "outputs": []
    },
    {
      "cell_type": "code",
      "metadata": {
        "id": "KaZNP4eQ6xrg",
        "colab_type": "code",
        "colab": {}
      },
      "source": [
        "# Data Preparing\n",
        "X = np.array(df.iloc[:, :9]) \n",
        "y = np.array(df['Class']) "
      ],
      "execution_count": null,
      "outputs": []
    },
    {
      "cell_type": "code",
      "metadata": {
        "id": "OSAmv1RL65ge",
        "colab_type": "code",
        "colab": {}
      },
      "source": [
        "# Data Preparing\n",
        "X_train, X_test, y_train, y_test = train_test_split(X, y, test_size = 0.20, random_state = 42) "
      ],
      "execution_count": null,
      "outputs": []
    },
    {
      "cell_type": "code",
      "metadata": {
        "id": "sRR2EVdC7fm-",
        "colab_type": "code",
        "colab": {}
      },
      "source": [
        "# knn = KNeighborsClassifier(n_neighbors = 15, metric='manhattan')# metric='euclidean') #metric='minkowski') \n",
        "# knn.fit(X_train, y_train) \n",
        "# from sklearn import metrics \n",
        "# from sklearn.metrics import precision_recall_fscore_support\n",
        "# knn.score(X_test, y_test) \n",
        "# y_pred=knn.predict(X_test)\n",
        "# acc=(metrics.accuracy_score(y_test,y_pred)*100)\n",
        "# acc    \n",
        "# knn.score(X_test, y_test) \n",
        "# from sklearn.metrics import precision_score\n",
        "# pre=(precision_score(y_test,y_pred)) #average='binary')*100)\n",
        "# pre\n",
        "# from sklearn.metrics import recall_score\n",
        "# rec=(recall_score(y_test,y_pred))# average='binary')*100)\n",
        "# rec\n",
        "# from sklearn.metrics import f1_score\n",
        "# f1=(f1_score(y_test,y_pred))# average='binary')*100)\n",
        "# f1 "
      ],
      "execution_count": null,
      "outputs": []
    },
    {
      "cell_type": "code",
      "metadata": {
        "id": "o7q6waWU7j8t",
        "colab_type": "code",
        "colab": {
          "base_uri": "https://localhost:8080/",
          "height": 85
        },
        "outputId": "a7f941c4-0772-440e-eb2e-86596c30cc37"
      },
      "source": [
        "#create a new KNN model\n",
        "knn_cv = KNeighborsClassifier(n_neighbors=8, metric='manhattan')\n",
        "#train model with cv of 10\n",
        "accK = cross_val_score(knn_cv, X_train, y_train, cv=10)\n",
        "#print each cv score (accuracy) and average them\n",
        "# print(accK)\n",
        "print(\"Acuracy:\",np.mean(accK)*100)\n",
        "\n",
        "preK = cross_val_score(knn_cv, X_train, y_train, cv=10, scoring='precision_macro')\n",
        "#print each cv score (Precision) and average them\n",
        "# print(preK)\n",
        "print(\"Precision:\",np.mean(preK)*100)\n",
        "\n",
        "recK = cross_val_score(knn_cv, X_train, y_train, cv=10, scoring='recall_macro')\n",
        "#print each cv score (Recall) and average them\n",
        "# print(recK)\n",
        "print(\"Recall:\",np.mean(recK)*100)\n",
        "\n",
        "f1K = cross_val_score(knn_cv, X_train, y_train, cv=10, scoring='f1_macro')\n",
        "#print each cv score (F1-Score) and average them\n",
        "# print(f1K)\n",
        "print(\"F1:\",np.mean(f1K))"
      ],
      "execution_count": null,
      "outputs": [
        {
          "output_type": "stream",
          "text": [
            "Acuracy: 96.95779220779221\n",
            "Precision: 96.54468378152589\n",
            "Recall: 96.84605658289868\n",
            "F1: 0.9665920563589703\n"
          ],
          "name": "stdout"
        }
      ]
    },
    {
      "cell_type": "code",
      "metadata": {
        "id": "8VgywHwIzHGu",
        "colab_type": "code",
        "colab": {}
      },
      "source": [
        "#create Testing\n",
        "kas=[]\n",
        "kps=[]\n",
        "krs=[]\n",
        "kfs=[]\n",
        "for k in range (1, 15):\n",
        "  knn_cv = KNeighborsClassifier(n_neighbors=k, metric='manhattan')\n",
        "  \n",
        "  #accuracy\n",
        "  accK = cross_val_score(knn_cv, X_train, y_train, cv=10)\n",
        "  kas.append((np.mean(accK)*100).round(2))\n",
        "  # kas=kas.round(2)\n",
        "\n",
        "  #precision\n",
        "  preK = cross_val_score(knn_cv, X_train, y_train, cv=10, scoring='precision_macro')\n",
        "  kps.append((np.mean(preK)*100).round(2))\n",
        "  # kps=kps.round(2)\n",
        "\n",
        "  #recall\n",
        "  recK = cross_val_score(knn_cv, X_train, y_train, cv=10, scoring='recall_macro')\n",
        "  krs.append((np.mean(recK)*100).round(2))\n",
        "  # krs=krs.round(2)\n",
        "\n",
        "  #Fs\n",
        "  f1K = cross_val_score(knn_cv, X_train, y_train, cv=10, scoring='f1_macro')\n",
        "  kfs.append((np.mean(f1K)).round(2))\n",
        "  # kfs=kfs.round(2)"
      ],
      "execution_count": null,
      "outputs": []
    },
    {
      "cell_type": "code",
      "metadata": {
        "id": "fjjcES893nPr",
        "colab_type": "code",
        "colab": {
          "base_uri": "https://localhost:8080/",
          "height": 367
        },
        "outputId": "21f25884-86a2-4958-dc34-0510c24ea182"
      },
      "source": [
        "#create Graph of Acc, pre, rec together\n",
        "plt.figure(figsize=(10,5))\n",
        "plt.plot([k for k in range(1, 15)], kas, color = 'red')\n",
        "plt.plot([k for k in range(1, 15)], kps, color = 'green')\n",
        "plt.plot([k for k in range(1, 15)], krs, color = 'blue')\n",
        "# plt.plot([k for k in range(1, 15)], kfs, color = 'black')\n",
        "for i in range(1,15):\n",
        "    plt.text(i, kas[i-1], (kas[i-1]))\n",
        "    plt.text(i, kps[i-1], (kps[i-1]))\n",
        "    plt.text(i, krs[i-1], (krs[i-1]))\n",
        "    # plt.text(i, kfs[i-1], (kfs[i-1]))\n",
        "plt.xticks([i for i in range(1, 15)])\n",
        "plt.xlabel('Number of Neighbors (K)')\n",
        "plt.ylabel('Scores')\n",
        "plt.title('K Neighbors Classifier scores for different K values')\n"
      ],
      "execution_count": null,
      "outputs": [
        {
          "output_type": "execute_result",
          "data": {
            "text/plain": [
              "Text(0.5, 1.0, 'K Neighbors Classifier scores for different K values')"
            ]
          },
          "metadata": {
            "tags": []
          },
          "execution_count": 130
        },
        {
          "output_type": "display_data",
          "data": {
            "image/png": "[encoded data removed]",
            "text/plain": [
              "<Figure size 720x360 with 1 Axes>"
            ]
          },
          "metadata": {
            "tags": [],
            "needs_background": "light"
          }
        }
      ]
    },
    {
      "cell_type": "code",
      "metadata": {
        "id": "7PGXOtzmAm5h",
        "colab_type": "code",
        "colab": {
          "base_uri": "https://localhost:8080/",
          "height": 367
        },
        "outputId": "6821f9b3-ac76-478b-eb1d-7d4065933ee4"
      },
      "source": [
        "#create Graph of Acc\n",
        "plt.figure(figsize=(10,5))\n",
        "plt.plot([k for k in range(1, 15)], kas, color = 'red')\n",
        "for i in range(1,15):\n",
        "    plt.text(i, kas[i-1], (kas[i-1]))\n",
        "plt.xticks([i for i in range(1, 15)])\n",
        "plt.xlabel('Number of Neighbors (K)')\n",
        "plt.ylabel('Scores')\n",
        "plt.title('K Neighbors Classifier accuracy for different K values')\n"
      ],
      "execution_count": null,
      "outputs": [
        {
          "output_type": "execute_result",
          "data": {
            "text/plain": [
              "Text(0.5, 1.0, 'K Neighbors Classifier scores for different K values')"
            ]
          },
          "metadata": {
            "tags": []
          },
          "execution_count": 121
        },
        {
          "output_type": "display_data",
          "data": {
            "image/png": "[encoded data removed]",
            "text/plain": [
              "<Figure size 720x360 with 1 Axes>"
            ]
          },
          "metadata": {
            "tags": [],
            "needs_background": "light"
          }
        }
      ]
    },
    {
      "cell_type": "markdown",
      "metadata": {
        "id": "CkTIsVDN0Fdw",
        "colab_type": "text"
      },
      "source": [
        "[link text](https://)"
      ]
    },
    {
      "cell_type": "code",
      "metadata": {
        "id": "YYimT-lk8gzE",
        "colab_type": "code",
        "colab": {
          "base_uri": "https://localhost:8080/",
          "height": 367
        },
        "outputId": "af4bff6f-5a9c-4c32-d236-8a96ca5d6867"
      },
      "source": [
        "#create Graph of pre\n",
        "plt.figure(figsize=(10,5))\n",
        "plt.plot([k for k in range(1, 15)], kps, color = 'green')\n",
        "for i in range(1,15):\n",
        "    plt.text(i, kps[i-1], ( kps[i-1]))\n",
        "plt.xticks([i for i in range(1, 15)])\n",
        "plt.xlabel('Number of Neighbors (K)')\n",
        "plt.ylabel('Scores')\n",
        "plt.title('K Neighbors Classifier precision for different K values')"
      ],
      "execution_count": null,
      "outputs": [
        {
          "output_type": "execute_result",
          "data": {
            "text/plain": [
              "Text(0.5, 1.0, 'K Neighbors Classifier scores for different K values')"
            ]
          },
          "metadata": {
            "tags": []
          },
          "execution_count": 124
        },
        {
          "output_type": "display_data",
          "data": {
            "image/png": "[encoded data removed]",
            "text/plain": [
              "<Figure size 720x360 with 1 Axes>"
            ]
          },
          "metadata": {
            "tags": [],
            "needs_background": "light"
          }
        }
      ]
    },
    {
      "cell_type": "code",
      "metadata": {
        "id": "PsM_-ZTR8k4j",
        "colab_type": "code",
        "colab": {
          "base_uri": "https://localhost:8080/",
          "height": 367
        },
        "outputId": "66b12c1b-9926-4a16-a386-e70192d94895"
      },
      "source": [
        "#create Graph of rec\n",
        "plt.figure(figsize=(10,5))\n",
        "plt.plot([k for k in range(1, 15)], krs, color = 'blue')\n",
        "for i in range(1,15):\n",
        "    plt.text(i, krs[i-1], (krs[i-1]))\n",
        "plt.xticks([i for i in range(1, 15)])\n",
        "plt.xlabel('Number of Neighbors (K)')\n",
        "plt.ylabel('Scores')\n",
        "plt.title('K Neighbors Classifier Recall for different K values')"
      ],
      "execution_count": null,
      "outputs": [
        {
          "output_type": "execute_result",
          "data": {
            "text/plain": [
              "Text(0.5, 1.0, 'K Neighbors Classifier scores for different K values')"
            ]
          },
          "metadata": {
            "tags": []
          },
          "execution_count": 125
        },
        {
          "output_type": "display_data",
          "data": {
            "image/png": "[encoded data removed]",
            "text/plain": [
              "<Figure size 720x360 with 1 Axes>"
            ]
          },
          "metadata": {
            "tags": [],
            "needs_background": "light"
          }
        }
      ]
    },
    {
      "cell_type": "code",
      "metadata": {
        "id": "hlZfOfhO8r7j",
        "colab_type": "code",
        "colab": {
          "base_uri": "https://localhost:8080/",
          "height": 367
        },
        "outputId": "0e1ce3cb-94d8-4d31-d8a5-0c0608a998b0"
      },
      "source": [
        "#create Graph of F1\n",
        "plt.figure(figsize=(10,5))\n",
        "plt.plot([k for k in range(1, 15)], kfs, color = 'black')\n",
        "for i in range(1,15):\n",
        "    plt.text(i, kfs[i-1], (kfs[i-1]))\n",
        "plt.xticks([i for i in range(1, 15)])\n",
        "plt.xlabel('Number of Neighbors (K)')\n",
        "plt.ylabel('Scores')\n",
        "plt.title('K Neighbors Classifier F1-score for different K values')"
      ],
      "execution_count": null,
      "outputs": [
        {
          "output_type": "execute_result",
          "data": {
            "text/plain": [
              "Text(0.5, 1.0, 'K Neighbors Classifier F1-score for different K values')"
            ]
          },
          "metadata": {
            "tags": []
          },
          "execution_count": 129
        },
        {
          "output_type": "display_data",
          "data": {
            "image/png": "[encoded data removed]",
            "text/plain": [
              "<Figure size 720x360 with 1 Axes>"
            ]
          },
          "metadata": {
            "tags": [],
            "needs_background": "light"
          }
        }
      ]
    },
    {
      "cell_type": "code",
      "metadata": {
        "id": "AtX-BXhBIjfb",
        "colab_type": "code",
        "colab": {}
      },
      "source": [
        "# import matplotlib.pyplot as plt\n",
        "# #plt.plot(xx, yy)\n",
        "# #plt.show()\n",
        "# #plt.savefig('f3.png')\n",
        "# from matplotlib.backends.backend_pdf import PdfPages\n",
        "# with PdfPages(r'f3.pdf') as export_pdf:\n",
        "#     plt.plot(xx,yy, color='red')\n",
        "#     plt.title('Graph of RT activation function', fontsize=10)\n",
        "#     plt.xlabel('Values of x', fontsize=8)\n",
        "#     plt.ylabel('Values of f(x)', fontsize=8)\n",
        "#     plt.grid(True)\n",
        "#     export_pdf.savefig()\n",
        "#     plt.close()"
      ],
      "execution_count": null,
      "outputs": []
    },
    {
      "cell_type": "markdown",
      "metadata": {
        "id": "A0OP3C73rc5Q",
        "colab_type": "text"
      },
      "source": [
        "## **General SVM at 10K-Fold on BCWD**"
      ]
    },
    {
      "cell_type": "code",
      "metadata": {
        "id": "CLeaqeQf_7GA",
        "colab_type": "code",
        "colab": {}
      },
      "source": [
        "from sklearn import svm"
      ],
      "execution_count": null,
      "outputs": []
    },
    {
      "cell_type": "code",
      "metadata": {
        "id": "xKTQ627RAKfo",
        "colab_type": "code",
        "colab": {}
      },
      "source": [
        "# from sklearn.model_selection import train_test_split\n",
        "# # Split dataset into training set and test set\n",
        "# X_train, X_test, y_train, y_test = train_test_split(cancer.data, cancer.target, test_size=0.3,random_state=109) # 70% training and 30% test\n",
        "# clf = svm.SVC(kernel='linear') # Linear Kernel\n",
        "# #Train the model using the training sets\n",
        "# clf.fit(X_train, y_train)\n",
        "# #Predict the response for test dataset\n",
        "# y_pred = clf.predict(X_test)\n",
        "# from sklearn import metrics\n",
        "# # Model Accuracy: how often is the classifier correct?\n",
        "# print(\"Accuracy:\",metrics.accuracy_score(y_test, y_pred))\n",
        "# from sklearn.model_selection import cross_val_score\n",
        "# import numpy as np"
      ],
      "execution_count": null,
      "outputs": []
    },
    {
      "cell_type": "code",
      "metadata": {
        "id": "GUv-mOotARPm",
        "colab_type": "code",
        "colab": {
          "base_uri": "https://localhost:8080/"
        },
        "outputId": "e96f5c69-9c6e-4ae0-d2ea-ca38f5640cca"
      },
      "source": [
        "#create a new SVM model\n",
        "clf = svm.SVC(kernel='linear')\n",
        "#train model with cv of 10\n",
        "\n",
        "accSVM = cross_val_score(clf, X_train, y_train, cv=10)\n",
        "#print each cv score (accuracy) and average them\n",
        "# print(accSVM)\n",
        "print(\"Acuracy:\",np.mean(accSVM)*100)\n",
        " \n",
        "preSVM = cross_val_score(clf, X_train, y_train, cv=10, scoring='precision_macro')\n",
        "#print each cv score (Precision) and average them\n",
        "# print(preSVM)\n",
        "print(\"Precision:\",np.mean(preSVM)*100)\n",
        "\n",
        "recSVM = cross_val_score(clf, X_train, y_train, cv=10, scoring='recall_macro')\n",
        "#print each cv score (Recall) and average them\n",
        "# print(recSVM)\n",
        "print(\"Recall:\",np.mean(recSVM)*100)\n",
        "\n",
        "f1SVM = cross_val_score(clf, X_train, y_train, cv=10, scoring='f1_macro')\n",
        "#print each cv score (F1-Score) and average them\n",
        "# print(f1SVM)\n",
        "print(\"F1:\",np.mean(f1SVM))\n"
      ],
      "execution_count": null,
      "outputs": [
        {
          "output_type": "stream",
          "text": [
            "Acuracy: 96.60389610389612\n",
            "Precision: 96.16123077965183\n",
            "Recall: 96.4571676940098\n",
            "F1: 0.9628082152005861\n"
          ],
          "name": "stdout"
        }
      ]
    },
    {
      "cell_type": "markdown",
      "metadata": {
        "id": "_A2HHJE3w49y",
        "colab_type": "text"
      },
      "source": [
        "## **General K-NN with Manhattan Distance at 10K-fold for HDD data**"
      ]
    },
    {
      "cell_type": "code",
      "metadata": {
        "id": "I72JqfMBIbFn",
        "colab_type": "code",
        "colab": {}
      },
      "source": [
        "# Library Declaration  \n",
        "import numpy as np \n",
        "import pandas as pd \n",
        "from sklearn.neighbors import KNeighborsClassifier\n",
        "from sklearn.model_selection import train_test_split \n",
        "from sklearn.model_selection import cross_val_score\n",
        "import numpy as np"
      ],
      "execution_count": null,
      "outputs": []
    },
    {
      "cell_type": "code",
      "metadata": {
        "id": "KVji9jTFI7qK",
        "colab_type": "code",
        "colab": {
          "base_uri": "https://localhost:8080/",
          "height": 419
        },
        "outputId": "daae3b4b-7f11-47d4-bfb4-c806141d14bd"
      },
      "source": [
        "#Input Data\n",
        "# df = pd.read_table('reprocessed.hungarian.data', sep=' ', names=[\"age\",\"sex\",\"cp\",\"trestbps\",\"chol\",\"fbs\",\"restecg\",\"thalach\",\"exang\",\"oldpeak\",\"slope\",\"ca\",\"thal\",\"num\"]) \n",
        "df = pd.read_csv(\"dataset.csv\") \n",
        "df"
      ],
      "execution_count": null,
      "outputs": [
        {
          "output_type": "execute_result",
          "data": {
            "text/html": [
              "<div>\n",
              "<style scoped>\n",
              "    .dataframe tbody tr th:only-of-type {\n",
              "        vertical-align: middle;\n",
              "    }\n",
              "\n",
              "    .dataframe tbody tr th {\n",
              "        vertical-align: top;\n",
              "    }\n",
              "\n",
              "    .dataframe thead th {\n",
              "        text-align: right;\n",
              "    }\n",
              "</style>\n",
              "<table border=\"1\" class=\"dataframe\">\n",
              "  <thead>\n",
              "    <tr style=\"text-align: right;\">\n",
              "      <th></th>\n",
              "      <th>age</th>\n",
              "      <th>sex</th>\n",
              "      <th>cp</th>\n",
              "      <th>trestbps</th>\n",
              "      <th>chol</th>\n",
              "      <th>fbs</th>\n",
              "      <th>restecg</th>\n",
              "      <th>thalach</th>\n",
              "      <th>exang</th>\n",
              "      <th>oldpeak</th>\n",
              "      <th>slope</th>\n",
              "      <th>ca</th>\n",
              "      <th>thal</th>\n",
              "      <th>target</th>\n",
              "    </tr>\n",
              "  </thead>\n",
              "  <tbody>\n",
              "    <tr>\n",
              "      <th>0</th>\n",
              "      <td>63</td>\n",
              "      <td>1</td>\n",
              "      <td>3</td>\n",
              "      <td>145</td>\n",
              "      <td>233</td>\n",
              "      <td>1</td>\n",
              "      <td>0</td>\n",
              "      <td>150</td>\n",
              "      <td>0</td>\n",
              "      <td>2.3</td>\n",
              "      <td>0</td>\n",
              "      <td>0</td>\n",
              "      <td>1</td>\n",
              "      <td>1</td>\n",
              "    </tr>\n",
              "    <tr>\n",
              "      <th>1</th>\n",
              "      <td>37</td>\n",
              "      <td>1</td>\n",
              "      <td>2</td>\n",
              "      <td>130</td>\n",
              "      <td>250</td>\n",
              "      <td>0</td>\n",
              "      <td>1</td>\n",
              "      <td>187</td>\n",
              "      <td>0</td>\n",
              "      <td>3.5</td>\n",
              "      <td>0</td>\n",
              "      <td>0</td>\n",
              "      <td>2</td>\n",
              "      <td>1</td>\n",
              "    </tr>\n",
              "    <tr>\n",
              "      <th>2</th>\n",
              "      <td>41</td>\n",
              "      <td>0</td>\n",
              "      <td>1</td>\n",
              "      <td>130</td>\n",
              "      <td>204</td>\n",
              "      <td>0</td>\n",
              "      <td>0</td>\n",
              "      <td>172</td>\n",
              "      <td>0</td>\n",
              "      <td>1.4</td>\n",
              "      <td>2</td>\n",
              "      <td>0</td>\n",
              "      <td>2</td>\n",
              "      <td>1</td>\n",
              "    </tr>\n",
              "    <tr>\n",
              "      <th>3</th>\n",
              "      <td>56</td>\n",
              "      <td>1</td>\n",
              "      <td>1</td>\n",
              "      <td>120</td>\n",
              "      <td>236</td>\n",
              "      <td>0</td>\n",
              "      <td>1</td>\n",
              "      <td>178</td>\n",
              "      <td>0</td>\n",
              "      <td>0.8</td>\n",
              "      <td>2</td>\n",
              "      <td>0</td>\n",
              "      <td>2</td>\n",
              "      <td>1</td>\n",
              "    </tr>\n",
              "    <tr>\n",
              "      <th>4</th>\n",
              "      <td>57</td>\n",
              "      <td>0</td>\n",
              "      <td>0</td>\n",
              "      <td>120</td>\n",
              "      <td>354</td>\n",
              "      <td>0</td>\n",
              "      <td>1</td>\n",
              "      <td>163</td>\n",
              "      <td>1</td>\n",
              "      <td>0.6</td>\n",
              "      <td>2</td>\n",
              "      <td>0</td>\n",
              "      <td>2</td>\n",
              "      <td>1</td>\n",
              "    </tr>\n",
              "    <tr>\n",
              "      <th>...</th>\n",
              "      <td>...</td>\n",
              "      <td>...</td>\n",
              "      <td>...</td>\n",
              "      <td>...</td>\n",
              "      <td>...</td>\n",
              "      <td>...</td>\n",
              "      <td>...</td>\n",
              "      <td>...</td>\n",
              "      <td>...</td>\n",
              "      <td>...</td>\n",
              "      <td>...</td>\n",
              "      <td>...</td>\n",
              "      <td>...</td>\n",
              "      <td>...</td>\n",
              "    </tr>\n",
              "    <tr>\n",
              "      <th>298</th>\n",
              "      <td>57</td>\n",
              "      <td>0</td>\n",
              "      <td>0</td>\n",
              "      <td>140</td>\n",
              "      <td>241</td>\n",
              "      <td>0</td>\n",
              "      <td>1</td>\n",
              "      <td>123</td>\n",
              "      <td>1</td>\n",
              "      <td>0.2</td>\n",
              "      <td>1</td>\n",
              "      <td>0</td>\n",
              "      <td>3</td>\n",
              "      <td>0</td>\n",
              "    </tr>\n",
              "    <tr>\n",
              "      <th>299</th>\n",
              "      <td>45</td>\n",
              "      <td>1</td>\n",
              "      <td>3</td>\n",
              "      <td>110</td>\n",
              "      <td>264</td>\n",
              "      <td>0</td>\n",
              "      <td>1</td>\n",
              "      <td>132</td>\n",
              "      <td>0</td>\n",
              "      <td>1.2</td>\n",
              "      <td>1</td>\n",
              "      <td>0</td>\n",
              "      <td>3</td>\n",
              "      <td>0</td>\n",
              "    </tr>\n",
              "    <tr>\n",
              "      <th>300</th>\n",
              "      <td>68</td>\n",
              "      <td>1</td>\n",
              "      <td>0</td>\n",
              "      <td>144</td>\n",
              "      <td>193</td>\n",
              "      <td>1</td>\n",
              "      <td>1</td>\n",
              "      <td>141</td>\n",
              "      <td>0</td>\n",
              "      <td>3.4</td>\n",
              "      <td>1</td>\n",
              "      <td>2</td>\n",
              "      <td>3</td>\n",
              "      <td>0</td>\n",
              "    </tr>\n",
              "    <tr>\n",
              "      <th>301</th>\n",
              "      <td>57</td>\n",
              "      <td>1</td>\n",
              "      <td>0</td>\n",
              "      <td>130</td>\n",
              "      <td>131</td>\n",
              "      <td>0</td>\n",
              "      <td>1</td>\n",
              "      <td>115</td>\n",
              "      <td>1</td>\n",
              "      <td>1.2</td>\n",
              "      <td>1</td>\n",
              "      <td>1</td>\n",
              "      <td>3</td>\n",
              "      <td>0</td>\n",
              "    </tr>\n",
              "    <tr>\n",
              "      <th>302</th>\n",
              "      <td>57</td>\n",
              "      <td>0</td>\n",
              "      <td>1</td>\n",
              "      <td>130</td>\n",
              "      <td>236</td>\n",
              "      <td>0</td>\n",
              "      <td>0</td>\n",
              "      <td>174</td>\n",
              "      <td>0</td>\n",
              "      <td>0.0</td>\n",
              "      <td>1</td>\n",
              "      <td>1</td>\n",
              "      <td>2</td>\n",
              "      <td>0</td>\n",
              "    </tr>\n",
              "  </tbody>\n",
              "</table>\n",
              "<p>303 rows × 14 columns</p>\n",
              "</div>"
            ],
            "text/plain": [
              "     age  sex  cp  trestbps  chol  fbs  ...  exang  oldpeak  slope  ca  thal  target\n",
              "0     63    1   3       145   233    1  ...      0      2.3      0   0     1       1\n",
              "1     37    1   2       130   250    0  ...      0      3.5      0   0     2       1\n",
              "2     41    0   1       130   204    0  ...      0      1.4      2   0     2       1\n",
              "3     56    1   1       120   236    0  ...      0      0.8      2   0     2       1\n",
              "4     57    0   0       120   354    0  ...      1      0.6      2   0     2       1\n",
              "..   ...  ...  ..       ...   ...  ...  ...    ...      ...    ...  ..   ...     ...\n",
              "298   57    0   0       140   241    0  ...      1      0.2      1   0     3       0\n",
              "299   45    1   3       110   264    0  ...      0      1.2      1   0     3       0\n",
              "300   68    1   0       144   193    1  ...      0      3.4      1   2     3       0\n",
              "301   57    1   0       130   131    0  ...      1      1.2      1   1     3       0\n",
              "302   57    0   1       130   236    0  ...      0      0.0      1   1     2       0\n",
              "\n",
              "[303 rows x 14 columns]"
            ]
          },
          "metadata": {
            "tags": []
          },
          "execution_count": 154
        }
      ]
    },
    {
      "cell_type": "code",
      "metadata": {
        "id": "pPUR8FesWpty",
        "colab_type": "code",
        "colab": {
          "base_uri": "https://localhost:8080/",
          "height": 374
        },
        "outputId": "8f32061d-f47a-4b28-a407-b5bfb34dfb16"
      },
      "source": [
        "#Checking data\n",
        "df.info()"
      ],
      "execution_count": null,
      "outputs": [
        {
          "output_type": "stream",
          "text": [
            "<class 'pandas.core.frame.DataFrame'>\n",
            "RangeIndex: 303 entries, 0 to 302\n",
            "Data columns (total 14 columns):\n",
            " #   Column    Non-Null Count  Dtype  \n",
            "---  ------    --------------  -----  \n",
            " 0   age       303 non-null    int64  \n",
            " 1   sex       303 non-null    int64  \n",
            " 2   cp        303 non-null    int64  \n",
            " 3   trestbps  303 non-null    int64  \n",
            " 4   chol      303 non-null    int64  \n",
            " 5   fbs       303 non-null    int64  \n",
            " 6   restecg   303 non-null    int64  \n",
            " 7   thalach   303 non-null    int64  \n",
            " 8   exang     303 non-null    int64  \n",
            " 9   oldpeak   303 non-null    float64\n",
            " 10  slope     303 non-null    int64  \n",
            " 11  ca        303 non-null    int64  \n",
            " 12  thal      303 non-null    int64  \n",
            " 13  target    303 non-null    int64  \n",
            "dtypes: float64(1), int64(13)\n",
            "memory usage: 33.3 KB\n"
          ],
          "name": "stdout"
        }
      ]
    },
    {
      "cell_type": "code",
      "metadata": {
        "id": "3H5IBfemJPgc",
        "colab_type": "code",
        "colab": {}
      },
      "source": [
        "# df=df[df.ca != '?']\n",
        "# df=df[df.thal != '?']\n",
        "# df[\"thal\"] = df[\"thal\"].astype(str).astype(float)\n",
        "# df[\"ca\"] = df[\"ca\"].astype(str).astype(float)\n",
        "# # df = df[:-1]\n",
        "\n",
        "# print(df)\n",
        "# df.info()\n",
        "\n",
        "# df\n",
        "# # performing linear algebra \n",
        "# import numpy as np    \n",
        "# # data processing \n",
        "# import pandas as pd \n",
        "# df = pd.read_table('reprocessed.hungarian.data', sep=',', names=[\"age\",\"sex\",\"cp\",\"trestbps\",\"chol\",\"fbs\",\"restecg\",\"thalach\",\"exang\",\"oldpeak\",\"slope\",\"ca\",\"thal\",\"num\"]) \n",
        "# # df.head(3)\n",
        "#df = df[:-1]\n",
        "# print(df)\n",
        "# df=df[df.ca != '?']\n",
        "# df=df[df.thal != '?']\n",
        "# df[\"thal\"] = df[\"thal\"].astype(str).astype(float)\n",
        "# df[\"ca\"] = df[\"ca\"].astype(str).astype(float)\n",
        "# df.info()\n",
        "# X = np.array(df.iloc[:, :13])\n",
        "# y = np.array(df['target'])"
      ],
      "execution_count": null,
      "outputs": []
    },
    {
      "cell_type": "code",
      "metadata": {
        "id": "iVuW5q8eVtR6",
        "colab_type": "code",
        "colab": {
          "base_uri": "https://localhost:8080/",
          "height": 439
        },
        "outputId": "83993deb-abbc-43b7-8a0a-39ba64a875ef"
      },
      "source": [
        "#preparing data\n",
        "dataset = pd.get_dummies(df, columns = ['sex', 'cp', 'fbs', 'restecg', 'exang', 'slope', 'ca', 'thal'])\n",
        "dataset"
      ],
      "execution_count": null,
      "outputs": [
        {
          "output_type": "execute_result",
          "data": {
            "text/html": [
              "<div>\n",
              "<style scoped>\n",
              "    .dataframe tbody tr th:only-of-type {\n",
              "        vertical-align: middle;\n",
              "    }\n",
              "\n",
              "    .dataframe tbody tr th {\n",
              "        vertical-align: top;\n",
              "    }\n",
              "\n",
              "    .dataframe thead th {\n",
              "        text-align: right;\n",
              "    }\n",
              "</style>\n",
              "<table border=\"1\" class=\"dataframe\">\n",
              "  <thead>\n",
              "    <tr style=\"text-align: right;\">\n",
              "      <th></th>\n",
              "      <th>age</th>\n",
              "      <th>trestbps</th>\n",
              "      <th>chol</th>\n",
              "      <th>thalach</th>\n",
              "      <th>oldpeak</th>\n",
              "      <th>target</th>\n",
              "      <th>sex_0</th>\n",
              "      <th>sex_1</th>\n",
              "      <th>cp_0</th>\n",
              "      <th>cp_1</th>\n",
              "      <th>cp_2</th>\n",
              "      <th>cp_3</th>\n",
              "      <th>fbs_0</th>\n",
              "      <th>fbs_1</th>\n",
              "      <th>restecg_0</th>\n",
              "      <th>restecg_1</th>\n",
              "      <th>restecg_2</th>\n",
              "      <th>exang_0</th>\n",
              "      <th>exang_1</th>\n",
              "      <th>slope_0</th>\n",
              "      <th>slope_1</th>\n",
              "      <th>slope_2</th>\n",
              "      <th>ca_0</th>\n",
              "      <th>ca_1</th>\n",
              "      <th>ca_2</th>\n",
              "      <th>ca_3</th>\n",
              "      <th>ca_4</th>\n",
              "      <th>thal_0</th>\n",
              "      <th>thal_1</th>\n",
              "      <th>thal_2</th>\n",
              "      <th>thal_3</th>\n",
              "    </tr>\n",
              "  </thead>\n",
              "  <tbody>\n",
              "    <tr>\n",
              "      <th>0</th>\n",
              "      <td>63</td>\n",
              "      <td>145</td>\n",
              "      <td>233</td>\n",
              "      <td>150</td>\n",
              "      <td>2.3</td>\n",
              "      <td>1</td>\n",
              "      <td>0</td>\n",
              "      <td>1</td>\n",
              "      <td>0</td>\n",
              "      <td>0</td>\n",
              "      <td>0</td>\n",
              "      <td>1</td>\n",
              "      <td>0</td>\n",
              "      <td>1</td>\n",
              "      <td>1</td>\n",
              "      <td>0</td>\n",
              "      <td>0</td>\n",
              "      <td>1</td>\n",
              "      <td>0</td>\n",
              "      <td>1</td>\n",
              "      <td>0</td>\n",
              "      <td>0</td>\n",
              "      <td>1</td>\n",
              "      <td>0</td>\n",
              "      <td>0</td>\n",
              "      <td>0</td>\n",
              "      <td>0</td>\n",
              "      <td>0</td>\n",
              "      <td>1</td>\n",
              "      <td>0</td>\n",
              "      <td>0</td>\n",
              "    </tr>\n",
              "    <tr>\n",
              "      <th>1</th>\n",
              "      <td>37</td>\n",
              "      <td>130</td>\n",
              "      <td>250</td>\n",
              "      <td>187</td>\n",
              "      <td>3.5</td>\n",
              "      <td>1</td>\n",
              "      <td>0</td>\n",
              "      <td>1</td>\n",
              "      <td>0</td>\n",
              "      <td>0</td>\n",
              "      <td>1</td>\n",
              "      <td>0</td>\n",
              "      <td>1</td>\n",
              "      <td>0</td>\n",
              "      <td>0</td>\n",
              "      <td>1</td>\n",
              "      <td>0</td>\n",
              "      <td>1</td>\n",
              "      <td>0</td>\n",
              "      <td>1</td>\n",
              "      <td>0</td>\n",
              "      <td>0</td>\n",
              "      <td>1</td>\n",
              "      <td>0</td>\n",
              "      <td>0</td>\n",
              "      <td>0</td>\n",
              "      <td>0</td>\n",
              "      <td>0</td>\n",
              "      <td>0</td>\n",
              "      <td>1</td>\n",
              "      <td>0</td>\n",
              "    </tr>\n",
              "    <tr>\n",
              "      <th>2</th>\n",
              "      <td>41</td>\n",
              "      <td>130</td>\n",
              "      <td>204</td>\n",
              "      <td>172</td>\n",
              "      <td>1.4</td>\n",
              "      <td>1</td>\n",
              "      <td>1</td>\n",
              "      <td>0</td>\n",
              "      <td>0</td>\n",
              "      <td>1</td>\n",
              "      <td>0</td>\n",
              "      <td>0</td>\n",
              "      <td>1</td>\n",
              "      <td>0</td>\n",
              "      <td>1</td>\n",
              "      <td>0</td>\n",
              "      <td>0</td>\n",
              "      <td>1</td>\n",
              "      <td>0</td>\n",
              "      <td>0</td>\n",
              "      <td>0</td>\n",
              "      <td>1</td>\n",
              "      <td>1</td>\n",
              "      <td>0</td>\n",
              "      <td>0</td>\n",
              "      <td>0</td>\n",
              "      <td>0</td>\n",
              "      <td>0</td>\n",
              "      <td>0</td>\n",
              "      <td>1</td>\n",
              "      <td>0</td>\n",
              "    </tr>\n",
              "    <tr>\n",
              "      <th>3</th>\n",
              "      <td>56</td>\n",
              "      <td>120</td>\n",
              "      <td>236</td>\n",
              "      <td>178</td>\n",
              "      <td>0.8</td>\n",
              "      <td>1</td>\n",
              "      <td>0</td>\n",
              "      <td>1</td>\n",
              "      <td>0</td>\n",
              "      <td>1</td>\n",
              "      <td>0</td>\n",
              "      <td>0</td>\n",
              "      <td>1</td>\n",
              "      <td>0</td>\n",
              "      <td>0</td>\n",
              "      <td>1</td>\n",
              "      <td>0</td>\n",
              "      <td>1</td>\n",
              "      <td>0</td>\n",
              "      <td>0</td>\n",
              "      <td>0</td>\n",
              "      <td>1</td>\n",
              "      <td>1</td>\n",
              "      <td>0</td>\n",
              "      <td>0</td>\n",
              "      <td>0</td>\n",
              "      <td>0</td>\n",
              "      <td>0</td>\n",
              "      <td>0</td>\n",
              "      <td>1</td>\n",
              "      <td>0</td>\n",
              "    </tr>\n",
              "    <tr>\n",
              "      <th>4</th>\n",
              "      <td>57</td>\n",
              "      <td>120</td>\n",
              "      <td>354</td>\n",
              "      <td>163</td>\n",
              "      <td>0.6</td>\n",
              "      <td>1</td>\n",
              "      <td>1</td>\n",
              "      <td>0</td>\n",
              "      <td>1</td>\n",
              "      <td>0</td>\n",
              "      <td>0</td>\n",
              "      <td>0</td>\n",
              "      <td>1</td>\n",
              "      <td>0</td>\n",
              "      <td>0</td>\n",
              "      <td>1</td>\n",
              "      <td>0</td>\n",
              "      <td>0</td>\n",
              "      <td>1</td>\n",
              "      <td>0</td>\n",
              "      <td>0</td>\n",
              "      <td>1</td>\n",
              "      <td>1</td>\n",
              "      <td>0</td>\n",
              "      <td>0</td>\n",
              "      <td>0</td>\n",
              "      <td>0</td>\n",
              "      <td>0</td>\n",
              "      <td>0</td>\n",
              "      <td>1</td>\n",
              "      <td>0</td>\n",
              "    </tr>\n",
              "    <tr>\n",
              "      <th>...</th>\n",
              "      <td>...</td>\n",
              "      <td>...</td>\n",
              "      <td>...</td>\n",
              "      <td>...</td>\n",
              "      <td>...</td>\n",
              "      <td>...</td>\n",
              "      <td>...</td>\n",
              "      <td>...</td>\n",
              "      <td>...</td>\n",
              "      <td>...</td>\n",
              "      <td>...</td>\n",
              "      <td>...</td>\n",
              "      <td>...</td>\n",
              "      <td>...</td>\n",
              "      <td>...</td>\n",
              "      <td>...</td>\n",
              "      <td>...</td>\n",
              "      <td>...</td>\n",
              "      <td>...</td>\n",
              "      <td>...</td>\n",
              "      <td>...</td>\n",
              "      <td>...</td>\n",
              "      <td>...</td>\n",
              "      <td>...</td>\n",
              "      <td>...</td>\n",
              "      <td>...</td>\n",
              "      <td>...</td>\n",
              "      <td>...</td>\n",
              "      <td>...</td>\n",
              "      <td>...</td>\n",
              "      <td>...</td>\n",
              "    </tr>\n",
              "    <tr>\n",
              "      <th>298</th>\n",
              "      <td>57</td>\n",
              "      <td>140</td>\n",
              "      <td>241</td>\n",
              "      <td>123</td>\n",
              "      <td>0.2</td>\n",
              "      <td>0</td>\n",
              "      <td>1</td>\n",
              "      <td>0</td>\n",
              "      <td>1</td>\n",
              "      <td>0</td>\n",
              "      <td>0</td>\n",
              "      <td>0</td>\n",
              "      <td>1</td>\n",
              "      <td>0</td>\n",
              "      <td>0</td>\n",
              "      <td>1</td>\n",
              "      <td>0</td>\n",
              "      <td>0</td>\n",
              "      <td>1</td>\n",
              "      <td>0</td>\n",
              "      <td>1</td>\n",
              "      <td>0</td>\n",
              "      <td>1</td>\n",
              "      <td>0</td>\n",
              "      <td>0</td>\n",
              "      <td>0</td>\n",
              "      <td>0</td>\n",
              "      <td>0</td>\n",
              "      <td>0</td>\n",
              "      <td>0</td>\n",
              "      <td>1</td>\n",
              "    </tr>\n",
              "    <tr>\n",
              "      <th>299</th>\n",
              "      <td>45</td>\n",
              "      <td>110</td>\n",
              "      <td>264</td>\n",
              "      <td>132</td>\n",
              "      <td>1.2</td>\n",
              "      <td>0</td>\n",
              "      <td>0</td>\n",
              "      <td>1</td>\n",
              "      <td>0</td>\n",
              "      <td>0</td>\n",
              "      <td>0</td>\n",
              "      <td>1</td>\n",
              "      <td>1</td>\n",
              "      <td>0</td>\n",
              "      <td>0</td>\n",
              "      <td>1</td>\n",
              "      <td>0</td>\n",
              "      <td>1</td>\n",
              "      <td>0</td>\n",
              "      <td>0</td>\n",
              "      <td>1</td>\n",
              "      <td>0</td>\n",
              "      <td>1</td>\n",
              "      <td>0</td>\n",
              "      <td>0</td>\n",
              "      <td>0</td>\n",
              "      <td>0</td>\n",
              "      <td>0</td>\n",
              "      <td>0</td>\n",
              "      <td>0</td>\n",
              "      <td>1</td>\n",
              "    </tr>\n",
              "    <tr>\n",
              "      <th>300</th>\n",
              "      <td>68</td>\n",
              "      <td>144</td>\n",
              "      <td>193</td>\n",
              "      <td>141</td>\n",
              "      <td>3.4</td>\n",
              "      <td>0</td>\n",
              "      <td>0</td>\n",
              "      <td>1</td>\n",
              "      <td>1</td>\n",
              "      <td>0</td>\n",
              "      <td>0</td>\n",
              "      <td>0</td>\n",
              "      <td>0</td>\n",
              "      <td>1</td>\n",
              "      <td>0</td>\n",
              "      <td>1</td>\n",
              "      <td>0</td>\n",
              "      <td>1</td>\n",
              "      <td>0</td>\n",
              "      <td>0</td>\n",
              "      <td>1</td>\n",
              "      <td>0</td>\n",
              "      <td>0</td>\n",
              "      <td>0</td>\n",
              "      <td>1</td>\n",
              "      <td>0</td>\n",
              "      <td>0</td>\n",
              "      <td>0</td>\n",
              "      <td>0</td>\n",
              "      <td>0</td>\n",
              "      <td>1</td>\n",
              "    </tr>\n",
              "    <tr>\n",
              "      <th>301</th>\n",
              "      <td>57</td>\n",
              "      <td>130</td>\n",
              "      <td>131</td>\n",
              "      <td>115</td>\n",
              "      <td>1.2</td>\n",
              "      <td>0</td>\n",
              "      <td>0</td>\n",
              "      <td>1</td>\n",
              "      <td>1</td>\n",
              "      <td>0</td>\n",
              "      <td>0</td>\n",
              "      <td>0</td>\n",
              "      <td>1</td>\n",
              "      <td>0</td>\n",
              "      <td>0</td>\n",
              "      <td>1</td>\n",
              "      <td>0</td>\n",
              "      <td>0</td>\n",
              "      <td>1</td>\n",
              "      <td>0</td>\n",
              "      <td>1</td>\n",
              "      <td>0</td>\n",
              "      <td>0</td>\n",
              "      <td>1</td>\n",
              "      <td>0</td>\n",
              "      <td>0</td>\n",
              "      <td>0</td>\n",
              "      <td>0</td>\n",
              "      <td>0</td>\n",
              "      <td>0</td>\n",
              "      <td>1</td>\n",
              "    </tr>\n",
              "    <tr>\n",
              "      <th>302</th>\n",
              "      <td>57</td>\n",
              "      <td>130</td>\n",
              "      <td>236</td>\n",
              "      <td>174</td>\n",
              "      <td>0.0</td>\n",
              "      <td>0</td>\n",
              "      <td>1</td>\n",
              "      <td>0</td>\n",
              "      <td>0</td>\n",
              "      <td>1</td>\n",
              "      <td>0</td>\n",
              "      <td>0</td>\n",
              "      <td>1</td>\n",
              "      <td>0</td>\n",
              "      <td>1</td>\n",
              "      <td>0</td>\n",
              "      <td>0</td>\n",
              "      <td>1</td>\n",
              "      <td>0</td>\n",
              "      <td>0</td>\n",
              "      <td>1</td>\n",
              "      <td>0</td>\n",
              "      <td>0</td>\n",
              "      <td>1</td>\n",
              "      <td>0</td>\n",
              "      <td>0</td>\n",
              "      <td>0</td>\n",
              "      <td>0</td>\n",
              "      <td>0</td>\n",
              "      <td>1</td>\n",
              "      <td>0</td>\n",
              "    </tr>\n",
              "  </tbody>\n",
              "</table>\n",
              "<p>303 rows × 31 columns</p>\n",
              "</div>"
            ],
            "text/plain": [
              "     age  trestbps  chol  thalach  ...  thal_0  thal_1  thal_2  thal_3\n",
              "0     63       145   233      150  ...       0       1       0       0\n",
              "1     37       130   250      187  ...       0       0       1       0\n",
              "2     41       130   204      172  ...       0       0       1       0\n",
              "3     56       120   236      178  ...       0       0       1       0\n",
              "4     57       120   354      163  ...       0       0       1       0\n",
              "..   ...       ...   ...      ...  ...     ...     ...     ...     ...\n",
              "298   57       140   241      123  ...       0       0       0       1\n",
              "299   45       110   264      132  ...       0       0       0       1\n",
              "300   68       144   193      141  ...       0       0       0       1\n",
              "301   57       130   131      115  ...       0       0       0       1\n",
              "302   57       130   236      174  ...       0       0       1       0\n",
              "\n",
              "[303 rows x 31 columns]"
            ]
          },
          "metadata": {
            "tags": []
          },
          "execution_count": 157
        }
      ]
    },
    {
      "cell_type": "code",
      "metadata": {
        "id": "ITLiFpW5WHmP",
        "colab_type": "code",
        "colab": {}
      },
      "source": [
        "#preparing data\n",
        "# from sklearn.model_selection import train_test_split\n",
        "from sklearn.preprocessing import StandardScaler\n",
        "standardScaler = StandardScaler()\n",
        "columns_to_scale = ['age', 'trestbps', 'chol', 'thalach', 'oldpeak']\n",
        "dataset[columns_to_scale] = standardScaler.fit_transform(dataset[columns_to_scale])"
      ],
      "execution_count": null,
      "outputs": []
    },
    {
      "cell_type": "code",
      "metadata": {
        "id": "yExEdwSnWMT4",
        "colab_type": "code",
        "colab": {}
      },
      "source": [
        "#preparing data\n",
        "y = dataset['target']\n",
        "X = dataset.drop(['target'], axis = 1)"
      ],
      "execution_count": null,
      "outputs": []
    },
    {
      "cell_type": "code",
      "metadata": {
        "id": "hew20pv1uVG0",
        "colab_type": "code",
        "colab": {}
      },
      "source": [
        "#preparing data\n",
        "X_train, X_test, y_train, y_test = train_test_split(X, y, test_size = 0.20, random_state = 42) "
      ],
      "execution_count": null,
      "outputs": []
    },
    {
      "cell_type": "code",
      "metadata": {
        "id": "1bkmKJyMXtE6",
        "colab_type": "code",
        "colab": {
          "base_uri": "https://localhost:8080/",
          "height": 85
        },
        "outputId": "f829b91c-8280-4e1c-a001-580d8eb9a4ae"
      },
      "source": [
        "#create a new KNN model\n",
        "knn_cv = KNeighborsClassifier(n_neighbors=8, metric='manhattan')\n",
        "#train model with cv of 10\n",
        "\n",
        "accK = cross_val_score(knn_cv, X_train, y_train, cv=10)\n",
        "#print each cv score (accuracy) and average them\n",
        "# print(accK)\n",
        "print(\"Acuracy:\",np.mean(accK)*100)\n",
        "\n",
        "preK = cross_val_score(knn_cv, X_train, y_train, cv=10, scoring='precision_macro')\n",
        "#print each cv score (Precision) and average them\n",
        "# print(preK)\n",
        "print(\"Precision:\",np.mean(preK)*100)\n",
        "\n",
        "recK = cross_val_score(knn_cv, X_train, y_train, cv=10, scoring='recall_macro')\n",
        "#print each cv score (Recall) and average them\n",
        "# print(recK)\n",
        "print(\"Recall:\",np.mean(recK)*100)\n",
        "\n",
        "f1K = cross_val_score(knn_cv, X_train, y_train, cv=10, scoring='f1_macro')\n",
        "#print each cv score (F1-Score) and average them\n",
        "# print(f1K)\n",
        "print(\"F1:\",np.mean(f1K))"
      ],
      "execution_count": null,
      "outputs": [
        {
          "output_type": "stream",
          "text": [
            "Acuracy: 83.5\n",
            "Precision: 83.79961704961704\n",
            "Recall: 83.45154845154846\n",
            "F1: 0.8326320523277044\n"
          ],
          "name": "stdout"
        }
      ]
    },
    {
      "cell_type": "code",
      "metadata": {
        "id": "LZOwrzM6Wb41",
        "colab_type": "code",
        "colab": {}
      },
      "source": [
        "#create Testing\n",
        "kas=[]\n",
        "kps=[]\n",
        "krs=[]\n",
        "kfs=[]\n",
        "for k in range (1, 15):\n",
        "  knn_cv = KNeighborsClassifier(n_neighbors=k, metric='manhattan')\n",
        "  \n",
        "  #accuracy\n",
        "  accK = cross_val_score(knn_cv, X_train, y_train, cv=10)\n",
        "  kas.append((np.mean(accK)*100).round(2))\n",
        "  # kas=kas.round(2)\n",
        "\n",
        "  #precision\n",
        "  preK = cross_val_score(knn_cv, X_train, y_train, cv=10, scoring='precision_macro')\n",
        "  kps.append((np.mean(preK)*100).round(2))\n",
        "  # kps=kps.round(2)\n",
        "\n",
        "  #recall\n",
        "  recK = cross_val_score(knn_cv, X_train, y_train, cv=10, scoring='recall_macro')\n",
        "  krs.append((np.mean(recK)*100).round(2))\n",
        "  # krs=krs.round(2)\n",
        "\n",
        "  #Fs\n",
        "  f1K = cross_val_score(knn_cv, X_train, y_train, cv=10, scoring='f1_macro')\n",
        "  kfs.append((np.mean(f1K)).round(2))\n",
        "  # kfs=kfs.round(2)"
      ],
      "execution_count": null,
      "outputs": []
    },
    {
      "cell_type": "code",
      "metadata": {
        "id": "b-Z4oCdqXRL2",
        "colab_type": "code",
        "colab": {
          "base_uri": "https://localhost:8080/",
          "height": 367
        },
        "outputId": "576e6f4f-8f40-47b0-98b8-9fbd07d0d82a"
      },
      "source": [
        "#create Graph of Acc, pre, rec together\n",
        "plt.figure(figsize=(10,5))\n",
        "plt.plot([k for k in range(1, 15)], kas, color = 'red')\n",
        "plt.plot([k for k in range(1, 15)], kps, color = 'green')\n",
        "plt.plot([k for k in range(1, 15)], krs, color = 'blue')\n",
        "# plt.plot([k for k in range(1, 15)], kfs, color = 'black')\n",
        "for i in range(1,15):\n",
        "    plt.text(i, kas[i-1], (kas[i-1]))\n",
        "    plt.text(i, kps[i-1], (kps[i-1]))\n",
        "    plt.text(i, krs[i-1], (krs[i-1]))\n",
        "    # plt.text(i, kfs[i-1], (kfs[i-1]))\n",
        "plt.xticks([i for i in range(1, 15)])\n",
        "plt.xlabel('Number of Neighbors (K)')\n",
        "plt.ylabel('Scores')\n",
        "plt.title('K Neighbors Classifier scores for different K values')\n"
      ],
      "execution_count": null,
      "outputs": [
        {
          "output_type": "execute_result",
          "data": {
            "text/plain": [
              "Text(0.5, 1.0, 'K Neighbors Classifier scores for different K values')"
            ]
          },
          "metadata": {
            "tags": []
          },
          "execution_count": 163
        },
        {
          "output_type": "display_data",
          "data": {
            "image/png": "[encoded data removed]",
            "text/plain": [
              "<Figure size 720x360 with 1 Axes>"
            ]
          },
          "metadata": {
            "tags": [],
            "needs_background": "light"
          }
        }
      ]
    },
    {
      "cell_type": "code",
      "metadata": {
        "id": "4OP4uvhZXlOX",
        "colab_type": "code",
        "colab": {
          "base_uri": "https://localhost:8080/",
          "height": 367
        },
        "outputId": "8886dfe0-2192-4901-c488-a1fb2edbcf79"
      },
      "source": [
        "#create Graph of Acc\n",
        "plt.figure(figsize=(10,5))\n",
        "plt.plot([k for k in range(1, 15)], kas, color = 'red')\n",
        "for i in range(1,15):\n",
        "    plt.text(i, kas[i-1], (kas[i-1]))\n",
        "plt.xticks([i for i in range(1, 15)])\n",
        "plt.xlabel('Number of Neighbors (K)')\n",
        "plt.ylabel('Scores')\n",
        "plt.title('K Neighbors Classifier accuracy for different K values')\n"
      ],
      "execution_count": null,
      "outputs": [
        {
          "output_type": "execute_result",
          "data": {
            "text/plain": [
              "Text(0.5, 1.0, 'K Neighbors Classifier accuracy for different K values')"
            ]
          },
          "metadata": {
            "tags": []
          },
          "execution_count": 164
        },
        {
          "output_type": "display_data",
          "data": {
            "image/png": "[encoded data removed]",
            "text/plain": [
              "<Figure size 720x360 with 1 Axes>"
            ]
          },
          "metadata": {
            "tags": [],
            "needs_background": "light"
          }
        }
      ]
    },
    {
      "cell_type": "code",
      "metadata": {
        "id": "OCZBMha4Xr8q",
        "colab_type": "code",
        "colab": {
          "base_uri": "https://localhost:8080/",
          "height": 367
        },
        "outputId": "d32ee4fe-e000-4bb4-f994-c8da5f94a51c"
      },
      "source": [
        "#create Graph of pre\n",
        "plt.figure(figsize=(10,5))\n",
        "plt.plot([k for k in range(1, 15)], kps, color = 'green')\n",
        "for i in range(1,15):\n",
        "    plt.text(i, kps[i-1], ( kps[i-1]))\n",
        "plt.xticks([i for i in range(1, 15)])\n",
        "plt.xlabel('Number of Neighbors (K)')\n",
        "plt.ylabel('Scores')\n",
        "plt.title('K Neighbors Classifier precision for different K values')"
      ],
      "execution_count": null,
      "outputs": [
        {
          "output_type": "execute_result",
          "data": {
            "text/plain": [
              "Text(0.5, 1.0, 'K Neighbors Classifier precision for different K values')"
            ]
          },
          "metadata": {
            "tags": []
          },
          "execution_count": 165
        },
        {
          "output_type": "display_data",
          "data": {
            "image/png": "[encoded data removed]",
            "text/plain": [
              "<Figure size 720x360 with 1 Axes>"
            ]
          },
          "metadata": {
            "tags": [],
            "needs_background": "light"
          }
        }
      ]
    },
    {
      "cell_type": "code",
      "metadata": {
        "id": "q3qaYs-8X528",
        "colab_type": "code",
        "colab": {
          "base_uri": "https://localhost:8080/",
          "height": 367
        },
        "outputId": "381eaa78-f795-479e-9227-5c5579d67edb"
      },
      "source": [
        "#create Graph of rec\n",
        "plt.figure(figsize=(10,5))\n",
        "plt.plot([k for k in range(1, 15)], krs, color = 'blue')\n",
        "for i in range(1,15):\n",
        "    plt.text(i, krs[i-1], (krs[i-1]))\n",
        "plt.xticks([i for i in range(1, 15)])\n",
        "plt.xlabel('Number of Neighbors (K)')\n",
        "plt.ylabel('Scores')\n",
        "plt.title('K Neighbors Classifier Recall for different K values')"
      ],
      "execution_count": null,
      "outputs": [
        {
          "output_type": "execute_result",
          "data": {
            "text/plain": [
              "Text(0.5, 1.0, 'K Neighbors Classifier Recall for different K values')"
            ]
          },
          "metadata": {
            "tags": []
          },
          "execution_count": 166
        },
        {
          "output_type": "display_data",
          "data": {
            "image/png": "[encoded data removed]",
            "text/plain": [
              "<Figure size 720x360 with 1 Axes>"
            ]
          },
          "metadata": {
            "tags": [],
            "needs_background": "light"
          }
        }
      ]
    },
    {
      "cell_type": "code",
      "metadata": {
        "id": "qT4XK7l9X7qT",
        "colab_type": "code",
        "colab": {
          "base_uri": "https://localhost:8080/",
          "height": 367
        },
        "outputId": "95a4c0e4-99da-42a2-9262-7934c76b9754"
      },
      "source": [
        "#create Graph of F1-score\n",
        "plt.figure(figsize=(10,5))\n",
        "plt.plot([k for k in range(1, 15)], kfs, color = 'black')\n",
        "for i in range(1,15):\n",
        "    plt.text(i, kfs[i-1], (kfs[i-1]))\n",
        "plt.xticks([i for i in range(1, 15)])\n",
        "plt.xlabel('Number of Neighbors (K)')\n",
        "plt.ylabel('Scores')\n",
        "plt.title('K Neighbors Classifier F1-score for different K values')"
      ],
      "execution_count": null,
      "outputs": [
        {
          "output_type": "execute_result",
          "data": {
            "text/plain": [
              "Text(0.5, 1.0, 'K Neighbors Classifier F1-score for different K values')"
            ]
          },
          "metadata": {
            "tags": []
          },
          "execution_count": 167
        },
        {
          "output_type": "display_data",
          "data": {
            "image/png": "[encoded data removed]",
            "text/plain": [
              "<Figure size 720x360 with 1 Axes>"
            ]
          },
          "metadata": {
            "tags": [],
            "needs_background": "light"
          }
        }
      ]
    },
    {
      "cell_type": "markdown",
      "metadata": {
        "id": "ZtPk-x6L33K1",
        "colab_type": "text"
      },
      "source": [
        "## **General SVM at 10K-Fold on HDD**"
      ]
    },
    {
      "cell_type": "code",
      "metadata": {
        "id": "ZPSmRp6QXyg5",
        "colab_type": "code",
        "colab": {}
      },
      "source": [
        "from sklearn import svm"
      ],
      "execution_count": null,
      "outputs": []
    },
    {
      "cell_type": "code",
      "metadata": {
        "id": "WlFktcqGXzC-",
        "colab_type": "code",
        "colab": {
          "base_uri": "https://localhost:8080/",
          "height": 85
        },
        "outputId": "009767e3-a9eb-4de0-8bf7-7ca2b6da8f3b"
      },
      "source": [
        "#create a new SVM model\n",
        "clf = svm.SVC(kernel='linear')\n",
        "#train model with cv of 10\n",
        "\n",
        "accSVM = cross_val_score(clf, X_train, y_train, cv=10)\n",
        "#print each cv score (accuracy) and average them\n",
        "# print(accSVM)\n",
        "print(\"Acuracy:\",np.mean(accSVM)*100)\n",
        " \n",
        "preSVM = cross_val_score(clf, X_train, y_train, cv=10, scoring='precision_macro')\n",
        "#print each cv score (Precision) and average them\n",
        "# print(preSVM)\n",
        "print(\"Precision:\",np.mean(preSVM)*100)\n",
        "\n",
        "recSVM = cross_val_score(clf, X_train, y_train, cv=10, scoring='recall_macro')\n",
        "#print each cv score (Recall) and average them\n",
        "# print(recSVM)\n",
        "print(\"Recall:\",np.mean(recSVM)*100)\n",
        "\n",
        "f1SVM = cross_val_score(clf, X_train, y_train, cv=10, scoring='f1_macro')\n",
        "#print each cv score (F1-Score) and average them\n",
        "# print(f1SVM)\n",
        "print(\"F1:\",np.mean(f1SVM))"
      ],
      "execution_count": null,
      "outputs": [
        {
          "output_type": "stream",
          "text": [
            "Acuracy: 81.00000000000001\n",
            "Precision: 81.7854473957415\n",
            "Recall: 80.38111888111888\n",
            "F1: 0.8046998727386164\n"
          ],
          "name": "stdout"
        }
      ]
    },
    {
      "cell_type": "code",
      "metadata": {
        "id": "PkW0SVx3Xy0p",
        "colab_type": "code",
        "colab": {}
      },
      "source": [
        "# knn = KNeighborsClassifier(n_neighbors = 9, metric='manhattan')# metric='euclidean') #metric='minkowski') \n",
        "# knn.fit(X_train, y_train) \n",
        "# from sklearn import metrics \n",
        "# from sklearn.metrics import precision_recall_fscore_support\n",
        "# y_pred=knn.predict(X_test)\n",
        "# from sklearn import metrics \n",
        "# from sklearn.metrics import precision_recall_fscore_support\n",
        "# acc=(metrics.accuracy_score(y_test,y_pred)*100)\n",
        "# acc \n",
        "# knn.score(X_test, y_test) \n",
        "# from sklearn.metrics import precision_score\n",
        "# pre=(precision_score(y_test,y_pred, average='macro')*100)\n",
        "# pre\n",
        "# from sklearn.metrics import recall_score\n",
        "# rec=(recall_score(y_test,y_pred, average='macro')*100)\n",
        "# rec \n",
        "# from sklearn.metrics import f1_score\n",
        "# f1=(f1_score(y_test,y_pred, average='macro'))\n",
        "# f1"
      ],
      "execution_count": null,
      "outputs": []
    },
    {
      "cell_type": "markdown",
      "metadata": {
        "id": "Hkm6JdtsjPbL",
        "colab_type": "text"
      },
      "source": [
        "## **Pailler basic encryption and decryption**"
      ]
    },
    {
      "cell_type": "markdown",
      "metadata": {
        "id": "ZBe4FO6jfTkp",
        "colab_type": "text"
      },
      "source": [
        "![Screenshot 2020-09-09 at 7.29.47 AM.png](data:image/png;base64,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)"
      ]
    },
    {
      "cell_type": "code",
      "metadata": {
        "id": "fkXClj7XFkdZ",
        "colab_type": "code",
        "colab": {}
      },
      "source": [
        "# !apt-get install libgmp-dev libmpfr-dev libmpc-dev\n",
        "# !pip install gmpy\n",
        "# !pip install gmpy2\n",
        "# import gmpy\n",
        "# from gmpy import * \n",
        "# x=gmpy.invert(12, 35)\n",
        "# x"
      ],
      "execution_count": 5,
      "outputs": []
    },
    {
      "cell_type": "code",
      "metadata": {
        "id": "cyycGcUsjP_R",
        "colab_type": "code",
        "colab": {}
      },
      "source": [
        "#Importing libraries\n",
        "import math\n",
        "import sympy\n",
        "from sympy import *\n",
        "# from sympy import mod_inverse"
      ],
      "execution_count": 5,
      "outputs": []
    },
    {
      "cell_type": "code",
      "metadata": {
        "id": "ouhbioV3-iv_",
        "colab_type": "code",
        "colab": {
          "base_uri": "https://localhost:8080/",
          "height": 136
        },
        "outputId": "528d7f0a-9ddb-41df-845d-bf0ed3b7b074"
      },
      "source": [
        "# Generating key's public and private \n",
        "def get_lcm(n1,n2):\n",
        "  #find gcd\n",
        "  gcd = math.gcd(n1,n2)\n",
        "   \n",
        "  #formula \n",
        "  result = (n1*n2)/gcd\n",
        "  return result\n",
        "\n",
        "p=11\n",
        "q=17\n",
        "N=p*q\n",
        "N_sq = int(math.pow(N,2))\n",
        "phi_n = int(((p-1)*(q-1)))\n",
        "\n",
        "# lam_n =int(get_lcm((p-1),(q-1)))\n",
        "# g = int((n+1))\n",
        "# x=int(((pow(g,lam_n))%n_sq))\n",
        "# Lf=int((x-1)/n)\n",
        "# u=mod_inverse(Lf, n)\n",
        " \n",
        "print(\"Prime number p:\",p)\n",
        "print(\"Prime number q:\",q)\n",
        "print(\"modulus n:\",N)\n",
        "print(\"spuare of modulus n_square:\",N_sq)\n",
        "print(\"φ(n):\",phi_n)\n",
        "\n",
        "# print(\"λ(n):\",lam_n)\n",
        "# print(\"g:\",g)\n",
        "# print(\"u:\",u)\n",
        "print(\"Public Key (N): (\",N,\")\")\n",
        "print(\"Private Key (N,φ(n)): (\",N,\",\",phi_n,\")\")"
      ],
      "execution_count": 6,
      "outputs": [
        {
          "output_type": "stream",
          "text": [
            "Prime number p: 11\n",
            "Prime number q: 17\n",
            "modulus n: 187\n",
            "spuare of modulus n_square: 34969\n",
            "φ(n): 160\n",
            "Public Key (N): ( 187 )\n",
            "Private Key (N,φ(n)): ( 187 , 160 )\n"
          ],
          "name": "stdout"
        }
      ]
    },
    {
      "cell_type": "code",
      "metadata": {
        "id": "5uErxjwtBP-L",
        "colab_type": "code",
        "colab": {
          "base_uri": "https://localhost:8080/",
          "height": 51
        },
        "outputId": "213a2e72-5c2c-45e4-f2ab-33b4718f8708"
      },
      "source": [
        "#encryption\n",
        "m=175\n",
        "r=83\n",
        "f=int((pow((1+N),m))*(pow(r,N)))\n",
        "c=int(f%N_sq)\n",
        "print(\"Original Message (M): (\",m,\")\")\n",
        "print(\"Encrypted Message (C): (\",c,\")\")"
      ],
      "execution_count": 10,
      "outputs": [
        {
          "output_type": "stream",
          "text": [
            "Original Message (M): ( 175 )\n",
            "Encrypted Message (C): ( 23911 )\n"
          ],
          "name": "stdout"
        }
      ]
    },
    {
      "cell_type": "code",
      "metadata": {
        "id": "6ym_bK8cCehZ",
        "colab_type": "code",
        "colab": {
          "base_uri": "https://localhost:8080/",
          "height": 34
        },
        "outputId": "4120fa15-0021-4607-a0c6-3817c497cc99"
      },
      "source": [
        "#decryption\n",
        "dlf1=int((pow(c,phi_n)%N_sq))\n",
        "p1=int(((dlf1-1)/N))\n",
        "\n",
        "dss=int(mod_inverse(phi_n, N))\n",
        "\n",
        "result=int((p1*dss)%N)\n",
        "# result\n",
        "print(\"Decrypted Message (D): (\",result,\")\")"
      ],
      "execution_count": 11,
      "outputs": [
        {
          "output_type": "stream",
          "text": [
            "Decrypted Message (D): ( 175 )\n"
          ],
          "name": "stdout"
        }
      ]
    },
    {
      "cell_type": "code",
      "metadata": {
        "id": "34ui8lpejv8b",
        "colab_type": "code",
        "colab": {}
      },
      "source": [
        "# # Generating key's public and private \n",
        "# def get_lcm(n1,n2):\n",
        "#   #find gcd\n",
        "#   gcd = math.gcd(n1,n2)\n",
        "   \n",
        "#   #formula \n",
        "#   result = (n1*n2)/gcd\n",
        "#   return result\n",
        "\n",
        "# p=5\n",
        "# q=7\n",
        "# n=p*q\n",
        "# n_sq = int(math.pow(n,2))\n",
        "# phi_n = int(((p-1)*(q-1)))\n",
        "# lam_n =int(get_lcm((p-1),(q-1)))\n",
        "# g = int((n+1))\n",
        "# x=int(((pow(g,lam_n))%n_sq))\n",
        "# Lf=int((x-1)/n)\n",
        "# u=mod_inverse(Lf, n)\n",
        " \n",
        "# print(\"Prime number p:\",p)\n",
        "# print(\"Prime number q:\",q)\n",
        "# print(\"modulus n:\",n)\n",
        "# print(\"spuare of modulus n_square:\",n_sq)\n",
        "# print(\"φ(n):\",phi_n)\n",
        "# print(\"λ(n):\",lam_n)\n",
        "# print(\"g:\",g)\n",
        "# print(\"u:\",u)\n",
        "# print(\"Public Key (n,g): (\",n,\",\",g,\")\")\n",
        "# print(\"Private Key (p,q,λ(n)): (\",p,\",\",q,\",\",lam_n,\")\")"
      ],
      "execution_count": 14,
      "outputs": []
    },
    {
      "cell_type": "code",
      "metadata": {
        "id": "1Ie-bTk6jwp_",
        "colab_type": "code",
        "colab": {}
      },
      "source": [
        "# #encryption\n",
        "# m=4\n",
        "# r=2\n",
        "# f=int((pow(g,m))*(pow(r,n)))\n",
        "# c=int(f%n_sq)\n",
        "# c"
      ],
      "execution_count": 12,
      "outputs": []
    },
    {
      "cell_type": "code",
      "metadata": {
        "id": "4pzkjiT6jw0Q",
        "colab_type": "code",
        "colab": {}
      },
      "source": [
        "# #decryption\n",
        "# dlf1=int((pow(c,lam_n)%n_sq))\n",
        "# p1=int(((dlf1-1)/n))\n",
        "\n",
        "# dlf2=int((pow(g,lam_n)%n_sq))\n",
        "# p2=int(((dlf2-1)/n))\n",
        "\n",
        "# dss=int(mod_inverse(p2, n))\n",
        "\n",
        "# result=int((p1*dss)%n)\n",
        "# result"
      ],
      "execution_count": 13,
      "outputs": []
    },
    {
      "cell_type": "markdown",
      "metadata": {
        "id": "ipw1Thfh-WJM",
        "colab_type": "text"
      },
      "source": [
        "## **Pailler basic operations addition and subtraction (m1>=m2)**"
      ]
    },
    {
      "cell_type": "code",
      "metadata": {
        "id": "yJ3E2VETFmQ1",
        "colab_type": "code",
        "colab": {}
      },
      "source": [
        "#Importing libraries\n",
        "import math\n",
        "import sympy\n",
        "from sympy import *\n",
        "# from sympy import mod_inverse"
      ],
      "execution_count": 92,
      "outputs": []
    },
    {
      "cell_type": "code",
      "metadata": {
        "id": "tHTt3jfAFtgm",
        "colab_type": "code",
        "colab": {
          "base_uri": "https://localhost:8080/",
          "height": 136
        },
        "outputId": "4f348d66-559d-436b-c90b-15331730e8a4"
      },
      "source": [
        "# Generating key's public and private \n",
        "def get_lcm(n1,n2):\n",
        "  #find gcd\n",
        "  gcd = math.gcd(n1,n2)\n",
        "   \n",
        "  #formula \n",
        "  result = (n1*n2)/gcd\n",
        "  return result\n",
        "\n",
        "p=11\n",
        "q=17\n",
        "N=p*q\n",
        "N_sq = int(math.pow(N,2))\n",
        "phi_n = int(((p-1)*(q-1)))\n",
        "\n",
        " \n",
        "print(\"Prime number p:\",p)\n",
        "print(\"Prime number q:\",q)\n",
        "print(\"modulus n:\",N)\n",
        "print(\"spuare of modulus n_square:\",N_sq)\n",
        "print(\"φ(n):\",phi_n)\n",
        "print(\"Public Key (N): (\",N,\")\")\n",
        "print(\"Private Key (N,φ(n)): (\",N,\",\",phi_n,\")\")"
      ],
      "execution_count": 93,
      "outputs": [
        {
          "output_type": "stream",
          "text": [
            "Prime number p: 11\n",
            "Prime number q: 17\n",
            "modulus n: 187\n",
            "spuare of modulus n_square: 34969\n",
            "φ(n): 160\n",
            "Public Key (N): ( 187 )\n",
            "Private Key (N,φ(n)): ( 187 , 160 )\n"
          ],
          "name": "stdout"
        }
      ]
    },
    {
      "cell_type": "code",
      "metadata": {
        "id": "dHajAkaEF2fx",
        "colab_type": "code",
        "colab": {
          "base_uri": "https://localhost:8080/",
          "height": 51
        },
        "outputId": "f659c4fa-4649-4ecb-fd36-2246660e7b23"
      },
      "source": [
        "#encryption\n",
        "m1=20\n",
        "m2=20\n",
        "r1=83\n",
        "r2=81\n",
        "\n",
        "f1=int((pow((1+N),m1))*(pow(r1,N)))\n",
        "c1=int(f1%N_sq)\n",
        "\n",
        "f2=int((pow((1+N),m2))*(pow(r2,N)))\n",
        "c2=int(f2%N_sq)\n",
        "\n",
        "print(\"Message1 (M1,C1): (\",m1,\",\",c1,\")\")\n",
        "print(\"Message2 (M2,C2): (\",m2,\",\",c2,\")\")"
      ],
      "execution_count": 94,
      "outputs": [
        {
          "output_type": "stream",
          "text": [
            "Message1 (M1,C1): ( 20 , 14187 )\n",
            "Message2 (M2,C2): ( 20 , 24535 )\n"
          ],
          "name": "stdout"
        }
      ]
    },
    {
      "cell_type": "code",
      "metadata": {
        "id": "ybz4mA3AHB1z",
        "colab_type": "code",
        "colab": {}
      },
      "source": [
        "#addition\n",
        "add= ((c1*c2)%N_sq)"
      ],
      "execution_count": 95,
      "outputs": []
    },
    {
      "cell_type": "code",
      "metadata": {
        "id": "LjxR2HBQODii",
        "colab_type": "code",
        "colab": {}
      },
      "source": [
        "#subtraction\n",
        "rcal=int(mod_inverse(c1,N_sq))\n",
        "sub= ((c2*rcal)%N_sq)"
      ],
      "execution_count": 96,
      "outputs": []
    },
    {
      "cell_type": "code",
      "metadata": {
        "id": "1E-L3tjYGhId",
        "colab_type": "code",
        "colab": {
          "base_uri": "https://localhost:8080/",
          "height": 68
        },
        "outputId": "db7bc4ba-4732-4690-c65e-13f5ea6399f2"
      },
      "source": [
        "#decryption\n",
        "dlf1=int((pow(c1,phi_n)%N_sq))\n",
        "p1=int(((dlf1-1)/N))\n",
        "\n",
        "dlf2=int((pow(c2,phi_n)%N_sq))\n",
        "p2=int(((dlf2-1)/N))\n",
        "\n",
        "# dlf3=int((pow(add,phi_n)%N_sq))\n",
        "# p3=int(((dlf3-1)/N))\n",
        "\n",
        "dlf3=int((pow(sub,phi_n)%N_sq))\n",
        "p3=int(((dlf3-1)/N))\n",
        "\n",
        "dss=int(mod_inverse(phi_n, N))\n",
        "\n",
        "D1=int((p1*dss)%N)\n",
        "D2=int((p2*dss)%N)\n",
        "D3=int((p3*dss)%N)\n",
        "print(\"Decrypted Message (D1): (\",D1,\")\")\n",
        "print(\"Decrypted Message (D2): (\",D2,\")\")\n",
        "print(\"Decrypted Message and original Message additon: (\",add,\",\",D3,\")\")\n",
        "# print(\"Decrypted Message and original Message subtraction: (\",sub,\",\",D4,\")\")"
      ],
      "execution_count": 97,
      "outputs": [
        {
          "output_type": "stream",
          "text": [
            "Decrypted Message (D1): ( 20 )\n",
            "Decrypted Message (D2): ( 20 )\n",
            "Decrypted Message and original Message additon: ( 31588 , 0 )\n"
          ],
          "name": "stdout"
        }
      ]
    },
    {
      "cell_type": "code",
      "metadata": {
        "id": "H_WeJIoujxFk",
        "colab_type": "code",
        "colab": {}
      },
      "source": [
        "# # Generating key's public and private \n",
        "# def get_lcm(n1,n2):\n",
        "#   #find gcd\n",
        "#   gcd = math.gcd(n1,n2)\n",
        "   \n",
        "#   #formula \n",
        "#   result = (n1*n2)/gcd\n",
        "#   return result\n",
        "\n",
        "# p=5\n",
        "# q=7\n",
        "# n=p*q\n",
        "# n_sq = int(math.pow(n,2))\n",
        "# phi_n = int(((p-1)*(q-1)))\n",
        "# lam_n =int(get_lcm((p-1),(q-1)))\n",
        "# g = int((n+1))\n",
        "# x=int(((pow(g,lam_n))%n_sq))\n",
        "# Lf=int((x-1)/n)\n",
        "# u=mod_inverse(Lf, n)\n",
        " \n",
        "# print(\"Prime number p:\",p)\n",
        "# print(\"Prime number q:\",q)\n",
        "# print(\"modulus n:\",n)\n",
        "# print(\"spuare of modulus n_square:\",n_sq)\n",
        "# print(\"φ(n):\",phi_n)\n",
        "# print(\"λ(n):\",lam_n)\n",
        "# print(\"g:\",g)\n",
        "# print(\"u:\",u)\n",
        "# print(\"Public Key (n,g): (\",n,\",\",g,\")\")\n",
        "# print(\"Private Key (p,q,λ(n)): (\",p,\",\",q,\",\",lam_n,\")\")\n",
        "\n",
        "# #encryption\n",
        "# m=3.141592653\n",
        "# r=2\n",
        "# f=int((pow(g,m))*(pow(r,n)))\n",
        "# c1=int(f%n_sq)\n",
        "# c1\n",
        "\n",
        "# #encryption\n",
        "# m=16\n",
        "# f=int((pow(g,m))*(pow(r,n)))\n",
        "# c2=int(f%n_sq)\n",
        "# c2\n",
        "\n",
        "# #homomorphic addition\n",
        "# add=((c1*c2)%n_sq)\n",
        "# add\n",
        "\n",
        "# #homomorphic subtraction\n",
        "# sub=mod_inverse(c2,n_sq))\n",
        "# subt=((c1*sub)%n_sq)\n",
        "# subt\n",
        "\n",
        "#homomorphic subtraction\n",
        "# sub=mod_inverse(c1,n_sq)\n",
        "# subt=(c2*sub)\n",
        "# sdf=mod_inverse(subt,n_sq)\n",
        "# sda=(sdf%n_sq)\n",
        "# sda\n",
        "\n",
        "# #decryption\n",
        "# dlf1=int((pow(c1,lam_n)%n_sq))\n",
        "# p1=int(((dlf1-1)/n))\n",
        "\n",
        "# dlf2=int((pow(g,lam_n)%n_sq))\n",
        "# p2=int(((dlf2-1)/n))\n",
        "\n",
        "# dss=int(mod_inverse(p2, n))\n",
        "\n",
        "# result=int((p1*dss)%n)\n",
        "# result"
      ],
      "execution_count": 16,
      "outputs": []
    },
    {
      "cell_type": "markdown",
      "metadata": {
        "id": "cQVyPPQGlUBK",
        "colab_type": "text"
      },
      "source": [
        "## **IEEE 754 double precision floating-point format (64 bits long)**"
      ]
    },
    {
      "cell_type": "code",
      "metadata": {
        "id": "KGhN5blDlmgp",
        "colab_type": "code",
        "colab": {
          "base_uri": "https://localhost:8080/",
          "height": 102
        },
        "outputId": "af85a214-76ef-46dc-9eef-aafbb122fe1f"
      },
      "source": [
        "import struct\n",
        " \n",
        "getBin = lambda x: x > 0 and str(bin(x))[2:] or \"-\" + str(bin(x))[3:]\n",
        " \n",
        "def floatToBinary64(value):\n",
        "    val = struct.unpack('Q', struct.pack('d', value))[0]\n",
        "    return getBin(val)\n",
        " \n",
        "def binaryToFloat(value):\n",
        "    hx = hex(int(value, 2))   \n",
        "    return struct.unpack(\"d\", struct.pack(\"q\", int(hx, 16)))[0]\n",
        " \n",
        "# floats are represented by IEEE 754 floating-point format which are \n",
        "# 64 bits long (not 32 bits)\n",
        " \n",
        "# float to binary\n",
        "binstr = floatToBinary64(19.5)\n",
        "print('Binary equivalent of 19.5:')\n",
        "print(binstr + '\\n')\n",
        " \n",
        "# binary to float\n",
        "fl = binaryToFloat(binstr)\n",
        "print('Decimal equivalent of ' + binstr)\n",
        "print(fl)"
      ],
      "execution_count": 98,
      "outputs": [
        {
          "output_type": "stream",
          "text": [
            "Binary equivalent of 19.5:\n",
            "100000000110011100000000000000000000000000000000000000000000000\n",
            "\n",
            "Decimal equivalent of 100000000110011100000000000000000000000000000000000000000000000\n",
            "19.5\n"
          ],
          "name": "stdout"
        }
      ]
    },
    {
      "cell_type": "markdown",
      "metadata": {
        "id": "eGiNAh3Gl8sc",
        "colab_type": "text"
      },
      "source": [
        "## **IEEE 754 double precision floating-point format (64 bits long) with Pailler's encryption and decryption**"
      ]
    },
    {
      "cell_type": "code",
      "metadata": {
        "id": "FJHmjWyamLFc",
        "colab_type": "code",
        "colab": {
          "base_uri": "https://localhost:8080/",
          "height": 68
        },
        "outputId": "e6357803-1f62-4ba6-f7af-9372160a735b"
      },
      "source": [
        "import struct\n",
        "#Importing libraries\n",
        "import math\n",
        "import sympy\n",
        "from sympy import *\n",
        "#======================================= \n",
        "\n",
        "getBin = lambda x: x > 0 and str(bin(x))[2:] or \"-\" + str(bin(x))[3:]\n",
        " \n",
        "def floatToBinary64(value):\n",
        "    val = struct.unpack('Q', struct.pack('d', value))[0]\n",
        "    return getBin(val)\n",
        " \n",
        "def binaryToFloat(value):\n",
        "    hx = hex(int(value, 2))   \n",
        "    return struct.unpack(\"d\", struct.pack(\"q\", int(hx, 16)))[0]\n",
        " \n",
        "# floats are represented by IEEE 754 floating-point format which are \n",
        "# 64 bits long (not 32 bits)\n",
        " \n",
        "# float to binary\n",
        "binstr = floatToBinary64(19.5)\n",
        "print('Binary equivalent of 19.5:')\n",
        "print(binstr + '\\n')\n"
      ],
      "execution_count": 100,
      "outputs": [
        {
          "output_type": "stream",
          "text": [
            "Binary equivalent of 19.5:\n",
            "100000000110011100000000000000000000000000000000000000000000000\n",
            "\n"
          ],
          "name": "stdout"
        }
      ]
    },
    {
      "cell_type": "code",
      "metadata": {
        "id": "HPzSUlSPn9RX",
        "colab_type": "code",
        "colab": {}
      },
      "source": [
        "type(binstr)\n"
      ],
      "execution_count": 109,
      "outputs": []
    },
    {
      "cell_type": "code",
      "metadata": {
        "id": "Hpc1UFmRm-vc",
        "colab_type": "code",
        "colab": {
          "base_uri": "https://localhost:8080/",
          "height": 136
        },
        "outputId": "2360d707-9d57-4f8e-a92c-0be047394431"
      },
      "source": [
        "#==============Pailler=============================\n",
        "# Generating key's public and private \n",
        "def get_lcm(n1,n2):\n",
        "  #find gcd\n",
        "  gcd = math.gcd(n1,n2)\n",
        "   \n",
        "  #formula \n",
        "  result = (n1*n2)/gcd\n",
        "  return result\n",
        "\n",
        "p=11\n",
        "q=17\n",
        "N=p*q\n",
        "N_sq = int(math.pow(N,2))\n",
        "phi_n = int(((p-1)*(q-1)))\n",
        "\n",
        " \n",
        "print(\"Prime number p:\",p)\n",
        "print(\"Prime number q:\",q)\n",
        "print(\"modulus n:\",N)\n",
        "print(\"spuare of modulus n_square:\",N_sq)\n",
        "print(\"φ(n):\",phi_n)\n",
        "print(\"Public Key (N): (\",N,\")\")\n",
        "print(\"Private Key (N,φ(n)): (\",N,\",\",phi_n,\")\")"
      ],
      "execution_count": 101,
      "outputs": [
        {
          "output_type": "stream",
          "text": [
            "Prime number p: 11\n",
            "Prime number q: 17\n",
            "modulus n: 187\n",
            "spuare of modulus n_square: 34969\n",
            "φ(n): 160\n",
            "Public Key (N): ( 187 )\n",
            "Private Key (N,φ(n)): ( 187 , 160 )\n"
          ],
          "name": "stdout"
        }
      ]
    },
    {
      "cell_type": "code",
      "metadata": {
        "id": "6_h2nq2hnHs9",
        "colab_type": "code",
        "colab": {
          "base_uri": "https://localhost:8080/",
          "height": 232
        },
        "outputId": "b4f5e837-df4b-4755-f38e-83fe50f4d27e"
      },
      "source": [
        "#encryption\n",
        "m1=binstr\n",
        "r1=83\n",
        "\n",
        "f1=int((pow((1+N),m1))*(pow(r1,N)))\n",
        "c1=int(f1%N_sq)\n",
        "\n",
        "print(\"Message1 (M1,C1): (\",m1,\",\",c1,\")\")"
      ],
      "execution_count": 102,
      "outputs": [
        {
          "output_type": "error",
          "ename": "TypeError",
          "evalue": "ignored",
          "traceback": [
            "\u001b[0;31m---------------------------------------------------------------------------\u001b[0m",
            "\u001b[0;31mTypeError\u001b[0m                                 Traceback (most recent call last)",
            "\u001b[0;32m<ipython-input-102-e90bcdc20bdf>\u001b[0m in \u001b[0;36m<module>\u001b[0;34m()\u001b[0m\n\u001b[1;32m      3\u001b[0m \u001b[0mr1\u001b[0m\u001b[0;34m=\u001b[0m\u001b[0;36m83\u001b[0m\u001b[0;34m\u001b[0m\u001b[0;34m\u001b[0m\u001b[0m\n\u001b[1;32m      4\u001b[0m \u001b[0;34m\u001b[0m\u001b[0m\n\u001b[0;32m----> 5\u001b[0;31m \u001b[0mf1\u001b[0m\u001b[0;34m=\u001b[0m\u001b[0mint\u001b[0m\u001b[0;34m(\u001b[0m\u001b[0;34m(\u001b[0m\u001b[0mpow\u001b[0m\u001b[0;34m(\u001b[0m\u001b[0;34m(\u001b[0m\u001b[0;36m1\u001b[0m\u001b[0;34m+\u001b[0m\u001b[0mN\u001b[0m\u001b[0;34m)\u001b[0m\u001b[0;34m,\u001b[0m\u001b[0mm1\u001b[0m\u001b[0;34m)\u001b[0m\u001b[0;34m)\u001b[0m\u001b[0;34m*\u001b[0m\u001b[0;34m(\u001b[0m\u001b[0mpow\u001b[0m\u001b[0;34m(\u001b[0m\u001b[0mr1\u001b[0m\u001b[0;34m,\u001b[0m\u001b[0mN\u001b[0m\u001b[0;34m)\u001b[0m\u001b[0;34m)\u001b[0m\u001b[0;34m)\u001b[0m\u001b[0;34m\u001b[0m\u001b[0;34m\u001b[0m\u001b[0m\n\u001b[0m\u001b[1;32m      6\u001b[0m \u001b[0mc1\u001b[0m\u001b[0;34m=\u001b[0m\u001b[0mint\u001b[0m\u001b[0;34m(\u001b[0m\u001b[0mf1\u001b[0m\u001b[0;34m%\u001b[0m\u001b[0mN_sq\u001b[0m\u001b[0;34m)\u001b[0m\u001b[0;34m\u001b[0m\u001b[0;34m\u001b[0m\u001b[0m\n\u001b[1;32m      7\u001b[0m \u001b[0;34m\u001b[0m\u001b[0m\n",
            "\u001b[0;31mTypeError\u001b[0m: unsupported operand type(s) for ** or pow(): 'int' and 'str'"
          ]
        }
      ]
    },
    {
      "cell_type": "code",
      "metadata": {
        "id": "njFsC0ELnb4S",
        "colab_type": "code",
        "colab": {}
      },
      "source": [
        "#decryption\n",
        "dlf1=int((pow(c1,phi_n)%N_sq))\n",
        "p1=int(((dlf1-1)/N))\n",
        "\n",
        "dss=int(mod_inverse(phi_n, N))\n",
        "\n",
        "D1=int((p1*dss)%N)\n",
        "print(\"Decrypted Message (D1): (\",D1,\")\")"
      ],
      "execution_count": null,
      "outputs": []
    },
    {
      "cell_type": "code",
      "metadata": {
        "id": "8HL1X2k2nCtx",
        "colab_type": "code",
        "colab": {}
      },
      "source": [
        "\n",
        "#===========================\n",
        " \n",
        "# binary to float\n",
        "fl = binaryToFloat(D1)\n",
        "print('Decimal equivalent of ' + binstr)\n",
        "print(fl)"
      ],
      "execution_count": null,
      "outputs": []
    },
    {
      "cell_type": "markdown",
      "metadata": {
        "id": "kvDm0YX5Zi12",
        "colab_type": "text"
      },
      "source": [
        "## **SecureK-NN**"
      ]
    },
    {
      "cell_type": "code",
      "metadata": {
        "id": "cikO64edKQZ-",
        "colab_type": "code",
        "colab": {}
      },
      "source": [
        ""
      ],
      "execution_count": null,
      "outputs": []
    },
    {
      "cell_type": "code",
      "metadata": {
        "id": "u742WZA9ZtlL",
        "colab_type": "code",
        "colab": {}
      },
      "source": [
        ""
      ],
      "execution_count": 70,
      "outputs": []
    },
    {
      "cell_type": "code",
      "metadata": {
        "id": "2XRGxurLC4Sg",
        "colab_type": "code",
        "colab": {}
      },
      "source": [
        ""
      ],
      "execution_count": 70,
      "outputs": []
    },
    {
      "cell_type": "code",
      "metadata": {
        "id": "jFH3l_WuFTYF",
        "colab_type": "code",
        "colab": {}
      },
      "source": [
        ""
      ],
      "execution_count": 70,
      "outputs": []
    },
    {
      "cell_type": "code",
      "metadata": {
        "id": "HpHXlCjsFXhs",
        "colab_type": "code",
        "colab": {}
      },
      "source": [
        ""
      ],
      "execution_count": null,
      "outputs": []
    }
  ]
}