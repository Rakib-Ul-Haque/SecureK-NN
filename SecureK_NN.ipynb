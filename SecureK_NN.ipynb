{
  "nbformat": 4,
  "nbformat_minor": 0,
  "metadata": {
    "colab": {
      "name": "SecureK-NN.ipynb",
      "provenance": [],
      "authorship_tag": "ABX9TyO+eUXQQ7r1p2E//AcHCvCQ",
      "include_colab_link": true
    },
    "kernelspec": {
      "name": "python3",
      "display_name": "Python 3"
    },
    "accelerator": "GPU"
  },
  "cells": [
    {
      "cell_type": "markdown",
      "metadata": {
        "id": "view-in-github",
        "colab_type": "text"
      },
      "source": [
        "<a href=\"https://colab.research.google.com/github/Rakib-Ul-Haque/SecureK-NN/blob/master/SecureK_NN.ipynb\" target=\"_parent\"><img src=\"https://colab.research.google.com/assets/colab-badge.svg\" alt=\"Open In Colab\"/></a>"
      ]
    },
    {
      "cell_type": "markdown",
      "metadata": {
        "id": "S5_hIg-N5wUp",
        "colab_type": "text"
      },
      "source": [
        "General K-NN with Eucladian Method"
      ]
    },
    {
      "cell_type": "code",
      "metadata": {
        "id": "S1qLc-JQKHPm",
        "colab_type": "code",
        "colab": {}
      },
      "source": [
        "# performing linear algebra \n",
        "import numpy as np  \n",
        "  \n",
        "# data processing \n",
        "import pandas as pd \n",
        "  \n",
        "# visualisation \n",
        "import matplotlib.pyplot as plt "
      ],
      "execution_count": 19,
      "outputs": []
    },
    {
      "cell_type": "markdown",
      "metadata": {
        "id": "j0yH461m56Pp",
        "colab_type": "text"
      },
      "source": [
        "BCWD dataset"
      ]
    },
    {
      "cell_type": "code",
      "metadata": {
        "id": "dqIeUrw9YEH2",
        "colab_type": "code",
        "colab": {
          "base_uri": "https://localhost:8080/",
          "height": 255
        },
        "outputId": "f9262008-606f-4473-b6ca-ba65491823f5"
      },
      "source": [
        "df = pd.read_csv(\"data.csv\") \n",
        "  \n",
        "print(df.head)"
      ],
      "execution_count": 20,
      "outputs": [
        {
          "output_type": "stream",
          "text": [
            "<bound method NDFrame.head of            id diagnosis  ...  fractal_dimension_worst  Unnamed: 32\n",
            "0      842302         M  ...                  0.11890          NaN\n",
            "1      842517         M  ...                  0.08902          NaN\n",
            "2    84300903         M  ...                  0.08758          NaN\n",
            "3    84348301         M  ...                  0.17300          NaN\n",
            "4    84358402         M  ...                  0.07678          NaN\n",
            "..        ...       ...  ...                      ...          ...\n",
            "564    926424         M  ...                  0.07115          NaN\n",
            "565    926682         M  ...                  0.06637          NaN\n",
            "566    926954         M  ...                  0.07820          NaN\n",
            "567    927241         M  ...                  0.12400          NaN\n",
            "568     92751         B  ...                  0.07039          NaN\n",
            "\n",
            "[569 rows x 33 columns]>\n"
          ],
          "name": "stdout"
        }
      ]
    },
    {
      "cell_type": "code",
      "metadata": {
        "id": "sJc218vL6EBz",
        "colab_type": "code",
        "colab": {
          "base_uri": "https://localhost:8080/",
          "height": 697
        },
        "outputId": "5ccc63a1-4532-43ca-d26d-9de9039711f9"
      },
      "source": [
        "df.info()"
      ],
      "execution_count": 21,
      "outputs": [
        {
          "output_type": "stream",
          "text": [
            "<class 'pandas.core.frame.DataFrame'>\n",
            "RangeIndex: 569 entries, 0 to 568\n",
            "Data columns (total 33 columns):\n",
            " #   Column                   Non-Null Count  Dtype  \n",
            "---  ------                   --------------  -----  \n",
            " 0   id                       569 non-null    int64  \n",
            " 1   diagnosis                569 non-null    object \n",
            " 2   radius_mean              569 non-null    float64\n",
            " 3   texture_mean             569 non-null    float64\n",
            " 4   perimeter_mean           569 non-null    float64\n",
            " 5   area_mean                569 non-null    float64\n",
            " 6   smoothness_mean          569 non-null    float64\n",
            " 7   compactness_mean         569 non-null    float64\n",
            " 8   concavity_mean           569 non-null    float64\n",
            " 9   concave points_mean      569 non-null    float64\n",
            " 10  symmetry_mean            569 non-null    float64\n",
            " 11  fractal_dimension_mean   569 non-null    float64\n",
            " 12  radius_se                569 non-null    float64\n",
            " 13  texture_se               569 non-null    float64\n",
            " 14  perimeter_se             569 non-null    float64\n",
            " 15  area_se                  569 non-null    float64\n",
            " 16  smoothness_se            569 non-null    float64\n",
            " 17  compactness_se           569 non-null    float64\n",
            " 18  concavity_se             569 non-null    float64\n",
            " 19  concave points_se        569 non-null    float64\n",
            " 20  symmetry_se              569 non-null    float64\n",
            " 21  fractal_dimension_se     569 non-null    float64\n",
            " 22  radius_worst             569 non-null    float64\n",
            " 23  texture_worst            569 non-null    float64\n",
            " 24  perimeter_worst          569 non-null    float64\n",
            " 25  area_worst               569 non-null    float64\n",
            " 26  smoothness_worst         569 non-null    float64\n",
            " 27  compactness_worst        569 non-null    float64\n",
            " 28  concavity_worst          569 non-null    float64\n",
            " 29  concave points_worst     569 non-null    float64\n",
            " 30  symmetry_worst           569 non-null    float64\n",
            " 31  fractal_dimension_worst  569 non-null    float64\n",
            " 32  Unnamed: 32              0 non-null      float64\n",
            "dtypes: float64(31), int64(1), object(1)\n",
            "memory usage: 146.8+ KB\n"
          ],
          "name": "stdout"
        }
      ]
    },
    {
      "cell_type": "code",
      "metadata": {
        "id": "5-CNtPd_6Ru9",
        "colab_type": "code",
        "colab": {
          "base_uri": "https://localhost:8080/",
          "height": 34
        },
        "outputId": "ab649045-bae2-47ff-f8d9-50dcc18b17f2"
      },
      "source": [
        "df=df.drop(['Unnamed: 32', 'id'], axis = 1) \n",
        "print(df.shape)"
      ],
      "execution_count": 24,
      "outputs": [
        {
          "output_type": "stream",
          "text": [
            "(569, 31)\n"
          ],
          "name": "stdout"
        }
      ]
    },
    {
      "cell_type": "code",
      "metadata": {
        "id": "cMNz6wr_6pQ8",
        "colab_type": "code",
        "colab": {}
      },
      "source": [
        "def diagnosis_value(diagnosis): \n",
        "    if diagnosis == 'M': \n",
        "        return 1\n",
        "    else: \n",
        "        return 0\n",
        "  \n",
        "df['diagnosis'] = df['diagnosis'].apply(diagnosis_value) "
      ],
      "execution_count": 25,
      "outputs": []
    },
    {
      "cell_type": "code",
      "metadata": {
        "id": "KaZNP4eQ6xrg",
        "colab_type": "code",
        "colab": {}
      },
      "source": [
        "X = np.array(df.iloc[:, 1:]) \n",
        "y = np.array(df['diagnosis']) \n"
      ],
      "execution_count": 26,
      "outputs": []
    },
    {
      "cell_type": "code",
      "metadata": {
        "id": "OSAmv1RL65ge",
        "colab_type": "code",
        "colab": {}
      },
      "source": [
        "from sklearn.neighbors import KNeighborsClassifier\n",
        "from sklearn.model_selection import train_test_split \n",
        "X_train, X_test, y_train, y_test = train_test_split( \n",
        "     X, y, test_size = 0.33, random_state = 42) "
      ],
      "execution_count": 27,
      "outputs": []
    },
    {
      "cell_type": "code",
      "metadata": {
        "id": "sRR2EVdC7fm-",
        "colab_type": "code",
        "colab": {
          "base_uri": "https://localhost:8080/",
          "height": 68
        },
        "outputId": "ec905ccd-4d82-4811-f96b-1df112fbf841"
      },
      "source": [
        "knn = KNeighborsClassifier(n_neighbors = 13) \n",
        "knn.fit(X_train, y_train) "
      ],
      "execution_count": 28,
      "outputs": [
        {
          "output_type": "execute_result",
          "data": {
            "text/plain": [
              "KNeighborsClassifier(algorithm='auto', leaf_size=30, metric='minkowski',\n",
              "                     metric_params=None, n_jobs=None, n_neighbors=13, p=2,\n",
              "                     weights='uniform')"
            ]
          },
          "metadata": {
            "tags": []
          },
          "execution_count": 28
        }
      ]
    },
    {
      "cell_type": "code",
      "metadata": {
        "id": "o7q6waWU7j8t",
        "colab_type": "code",
        "colab": {}
      },
      "source": [
        "from sklearn.metrics import precision_recall_fscore_support"
      ],
      "execution_count": 29,
      "outputs": []
    },
    {
      "cell_type": "code",
      "metadata": {
        "id": "CLeaqeQf_7GA",
        "colab_type": "code",
        "colab": {
          "base_uri": "https://localhost:8080/",
          "height": 34
        },
        "outputId": "91cabbbe-4e6b-45bd-fc54-f5baa605d575"
      },
      "source": [
        "knn.score(X_test, y_test) "
      ],
      "execution_count": 33,
      "outputs": [
        {
          "output_type": "execute_result",
          "data": {
            "text/plain": [
              "0.9627659574468085"
            ]
          },
          "metadata": {
            "tags": []
          },
          "execution_count": 33
        }
      ]
    },
    {
      "cell_type": "code",
      "metadata": {
        "id": "xKTQ627RAKfo",
        "colab_type": "code",
        "colab": {}
      },
      "source": [
        ""
      ],
      "execution_count": 35,
      "outputs": []
    },
    {
      "cell_type": "code",
      "metadata": {
        "id": "GUv-mOotARPm",
        "colab_type": "code",
        "colab": {}
      },
      "source": [
        ""
      ],
      "execution_count": null,
      "outputs": []
    }
  ]
}